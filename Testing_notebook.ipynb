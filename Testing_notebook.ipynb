{
 "cells": [
  {
   "cell_type": "markdown",
   "metadata": {},
   "source": [
    "From https://opencv-tutorial.readthedocs.io/en/latest/yolo/yolo.html"
   ]
  },
  {
   "cell_type": "code",
   "execution_count": 6,
   "metadata": {},
   "outputs": [],
   "source": [
    "# YOLO object detection\n",
    "import cv2 as cv\n",
    "import numpy as np\n",
    "import time\n",
    "import os"
   ]
  },
  {
   "cell_type": "code",
   "execution_count": 7,
   "metadata": {},
   "outputs": [],
   "source": [
    "WHITE = (255, 255, 255)\n",
    "img = None\n",
    "img0 = None\n",
    "outputs = None\n",
    "\n",
    "# Load names of classes and get random colors\n",
    "    # classes = open('coco.names').read().strip().split('\\n')\n",
    "\n",
    "classes = open('classes.txt').read().strip().split('\\n')\n",
    "np.random.seed(42)\n",
    "colors = np.random.randint(0, 255, size=(len(classes), 3), dtype='uint8')"
   ]
  },
  {
   "cell_type": "code",
   "execution_count": 8,
   "metadata": {},
   "outputs": [],
   "source": [
    "# Give the configuration and weight files for the model and load the network.\n",
    "net = cv.dnn.readNetFromDarknet('yolov3_CUSTOM.cfg', 'yolov3_CUSTOM_last.weights')\n",
    "net.setPreferableBackend(cv.dnn.DNN_BACKEND_OPENCV)\n",
    "# net.setPreferableTarget(cv.dnn.DNN_TARGET_CPU)\n",
    "\n",
    "# determine the output layer\n",
    "ln = net.getLayerNames()\n",
    "ln = [ln[i[0] - 1] for i in net.getUnconnectedOutLayers()]"
   ]
  },
  {
   "cell_type": "markdown",
   "metadata": {},
   "source": [
    "Functions"
   ]
  },
  {
   "cell_type": "code",
   "execution_count": 9,
   "metadata": {},
   "outputs": [],
   "source": [
    "def load_image(path):\n",
    "    global img, img0, outputs, ln\n",
    "\n",
    "    img0 = cv.imread(path)\n",
    "    img = img0.copy()\n",
    "    \n",
    "    blob = cv.dnn.blobFromImage(img, 1/255.0, (416, 416), swapRB=True, crop=False)\n",
    "\n",
    "    net.setInput(blob)\n",
    "    t0 = time.time()\n",
    "    outputs = net.forward(ln)\n",
    "    t = time.time() - t0\n",
    "\n",
    "    # combine the 3 output groups into 1 (10647, 85)\n",
    "    # large objects (507, 85)\n",
    "    # medium objects (2028, 85)\n",
    "    # small objects (8112, 85)\n",
    "    outputs = np.vstack(outputs)\n",
    "\n",
    "    post_process(img, outputs, 0.5)\n",
    "    cv.imshow('window',  img)\n",
    "    cv.displayOverlay('window', f'forward propagation time={t:.3}')\n",
    "    cv.waitKey(0)\n",
    "\n",
    "def post_process(img, outputs, conf):\n",
    "    H, W = img.shape[:2]\n",
    "\n",
    "    boxes = []\n",
    "    confidences = []\n",
    "    classIDs = []\n",
    "\n",
    "    for output in outputs:\n",
    "        scores = output[5:]\n",
    "        classID = np.argmax(scores) # which class\n",
    "        confidence = scores[classID] # confidence\n",
    "        \n",
    "        if confidence > conf:\n",
    "            x, y, w, h = output[:4] * np.array([W, H, W, H])\n",
    "            p0 = int(x - w//2), int(y - h//2)\n",
    "            p1 = int(x + w//2), int(y + h//2)\n",
    "            boxes.append([*p0, int(w), int(h)])\n",
    "            confidences.append(float(confidence))\n",
    "            classIDs.append(classID)\n",
    "            cv.rectangle(img, p0, p1, WHITE, 1)\n",
    "            \n",
    "    indices = cv.dnn.NMSBoxes(boxes, confidences, conf, conf-0.1)\n",
    "    if len(indices) > 0:\n",
    "        for i in indices.flatten():\n",
    "            (x, y) = (boxes[i][0], boxes[i][1])\n",
    "            (w, h) = (boxes[i][2], boxes[i][3])\n",
    "            color = [int(c) for c in colors[classIDs[i]]]\n",
    "            cv.rectangle(img, (x, y), (x + w, y + h), color, 2)\n",
    "            text = \"{}: {:.4f}\".format(classes[classIDs[i]], confidences[i])\n",
    "            cv.putText(img, text, (x, y - 5), cv.FONT_HERSHEY_SIMPLEX, 0.5, color, 1)\n",
    "            \n",
    "            print(classes[classIDs[i]], confidences[i])\n",
    "        \n",
    "\n",
    "def trackbar(x):\n",
    "    global img\n",
    "    conf = x/100\n",
    "    img = img0.copy()\n",
    "    post_process(img, outputs, conf)\n",
    "    cv.displayOverlay('window', f'confidence level={conf}')\n",
    "    cv.imshow('window', img)\n",
    "\n"
   ]
  },
  {
   "cell_type": "code",
   "execution_count": 10,
   "metadata": {},
   "outputs": [
    {
     "ename": "AssertionError",
     "evalue": "",
     "output_type": "error",
     "traceback": [
      "\u001b[0;31m---------------------------------------------------------------------------\u001b[0m",
      "\u001b[0;31mAssertionError\u001b[0m                            Traceback (most recent call last)",
      "\u001b[0;32m<ipython-input-10-a871fdc9ebee>\u001b[0m in \u001b[0;36m<module>\u001b[0;34m\u001b[0m\n\u001b[0;32m----> 1\u001b[0;31m \u001b[0;32massert\u001b[0m \u001b[0;32mFalse\u001b[0m\u001b[0;34m\u001b[0m\u001b[0;34m\u001b[0m\u001b[0m\n\u001b[0m",
      "\u001b[0;31mAssertionError\u001b[0m: "
     ]
    }
   ],
   "source": [
    "assert False"
   ]
  },
  {
   "cell_type": "markdown",
   "metadata": {},
   "source": [
    "Tests"
   ]
  },
  {
   "cell_type": "code",
   "execution_count": null,
   "metadata": {},
   "outputs": [
    {
     "name": "stdout",
     "output_type": "stream",
     "text": [
      "anemone 0.9926396608352661\n"
     ]
    }
   ],
   "source": [
    "cv.namedWindow('window')\n",
    "cv.createTrackbar('confidence', 'window', 50, 100, trackbar)\n",
    "\n",
    "load_image('test_images/anemone_test_1.jpeg') # seastar\n",
    "# load_image('test_anemone.jpeg') # anemone\n",
    "# load_image('test_nudibranch.jpg') # nudibranch\n",
    "# load_image('test_barnacle.jpg') # barnacle\n",
    "# load_image('test_bivalve.jpg') # bivalve\n",
    "# load_image('test_mussel.jpg') # bivalve\n",
    "# load_image('test_mussel_6.jpeg') # bivalve\n",
    "# load_image('test_crab_7.jpeg') # crab\n",
    "# load_image('test_crab_5.png') # crab\n",
    "\n",
    "\n",
    "cv.destroyAllWindows()"
   ]
  },
  {
   "cell_type": "code",
   "execution_count": null,
   "metadata": {},
   "outputs": [],
   "source": []
  },
  {
   "cell_type": "code",
   "execution_count": null,
   "metadata": {},
   "outputs": [],
   "source": [
    "def load_image_test(path):\n",
    "    global img, img0, outputs, ln\n",
    "\n",
    "    img0 = cv.imread(path)\n",
    "    img = img0.copy()\n",
    "    \n",
    "    blob = cv.dnn.blobFromImage(img, 1/255.0, (416, 416), swapRB=True, crop=False)\n",
    "\n",
    "    net.setInput(blob)\n",
    "    t0 = time.time()\n",
    "    outputs = net.forward(ln)\n",
    "    t = time.time() - t0\n",
    "    outputs = np.vstack(outputs)\n",
    "\n",
    "    post_process_test(img, outputs, 0.5)\n",
    "#     cv.imshow('window',  img)\n",
    "#     cv.displayOverlay('window', f'forward propagation time={t:.3}')\n",
    "    cv.waitKey(0)\n",
    "    \n",
    "\n",
    "def post_process_test(img, outputs, conf):\n",
    "    H, W = img.shape[:2]\n",
    "\n",
    "    boxes = []\n",
    "    confidences = []\n",
    "    classIDs = []\n",
    "\n",
    "    for output in outputs:\n",
    "        scores = output[5:]\n",
    "        classID = np.argmax(scores) # which class\n",
    "        confidence = scores[classID] # confidence\n",
    "        \n",
    "        if confidence > conf:\n",
    "            x, y, w, h = output[:4] * np.array([W, H, W, H])\n",
    "            p0 = int(x - w//2), int(y - h//2)\n",
    "            p1 = int(x + w//2), int(y + h//2)\n",
    "            boxes.append([*p0, int(w), int(h)])\n",
    "            confidences.append(float(confidence))\n",
    "            classIDs.append(classID)\n",
    "            # cv.rectangle(img, p0, p1, WHITE, 1)\n",
    "            \n",
    "    indices = cv.dnn.NMSBoxes(boxes, confidences, conf, conf-0.1)\n",
    "    if len(indices) > 0:\n",
    "        for i in indices.flatten():\n",
    "            (x, y) = (boxes[i][0], boxes[i][1])\n",
    "            (w, h) = (boxes[i][2], boxes[i][3])\n",
    "            color = [int(c) for c in colors[classIDs[i]]]\n",
    "            cv.rectangle(img, (x, y), (x + w, y + h), color, 2)\n",
    "            text = \"{}: {:.4f}\".format(classes[classIDs[i]], confidences[i])\n",
    "            cv.putText(img, text, (x, y - 5), cv.FONT_HERSHEY_SIMPLEX, 0.5, color, 1)\n",
    "            \n",
    "            print(classes[classIDs[i]], confidences[i])\n",
    "            \n",
    "            if classes[classIDs[i]].isin(img):\n",
    "                print('yes')"
   ]
  },
  {
   "cell_type": "code",
   "execution_count": null,
   "metadata": {},
   "outputs": [],
   "source": [
    "# img_1 = '/users/noah/Github_repos/Project_5/test_images/anemone_test_1.jpeg'\n",
    "# img_2 = '/users/noah/Github_repos/Project_5/test_images/barnacle_test_1.jpg'\n",
    "\n",
    "# test_pics = [img_1, img_2]\n",
    "\n",
    "# for pic in test_pics:\n",
    "#     print(pic[47:])\n",
    "#     load_image_test(pic)\n",
    "#     print('\\n')"
   ]
  },
  {
   "cell_type": "code",
   "execution_count": null,
   "metadata": {},
   "outputs": [],
   "source": [
    "def test_all(test_dir_path):\n",
    "    os.listdir(test_dir_path)\n",
    "    for pic in os.listdir(test_dir_path):\n",
    "        if pic.endswith('.jpeg') or pic.endswith('.jpg') :\n",
    "            print(pic)\n",
    "    #         print(test_dir_path+pic)\n",
    "            load_image_test(test_dir_path+pic)\n",
    "            print('\\n')"
   ]
  },
  {
   "cell_type": "code",
   "execution_count": null,
   "metadata": {},
   "outputs": [],
   "source": [
    "test_dir_path = '/users/noah/Github_repos/Project_5/test_images/'\n",
    "\n",
    "test_all(test_dir_path)"
   ]
  },
  {
   "cell_type": "code",
   "execution_count": null,
   "metadata": {},
   "outputs": [],
   "source": []
  }
 ],
 "metadata": {
  "kernelspec": {
   "display_name": "Python [conda env:metis] *",
   "language": "python",
   "name": "conda-env-metis-py"
  },
  "language_info": {
   "codemirror_mode": {
    "name": "ipython",
    "version": 3
   },
   "file_extension": ".py",
   "mimetype": "text/x-python",
   "name": "python",
   "nbconvert_exporter": "python",
   "pygments_lexer": "ipython3",
   "version": "3.8.5"
  }
 },
 "nbformat": 4,
 "nbformat_minor": 4
}
