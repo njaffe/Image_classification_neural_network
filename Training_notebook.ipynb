{
  "nbformat": 4,
  "nbformat_minor": 0,
  "metadata": {
    "colab": {
      "name": "Training_notebook.ipynb",
      "provenance": [],
      "collapsed_sections": [
        "h4F90N1lhXR2"
      ]
    },
    "kernelspec": {
      "name": "python3",
      "display_name": "Python 3"
    },
    "accelerator": "GPU"
  },
  "cells": [
    {
      "cell_type": "markdown",
      "metadata": {
        "id": "wQaH53afmrZC"
      },
      "source": [
        "# Building a YOLOv3 Object Detector with Darknet in the Cloud (GPU ENABLED)"
      ]
    },
    {
      "cell_type": "markdown",
      "metadata": {
        "id": "IlhBt0U_LFCl"
      },
      "source": [
        "This notebook is based on this [tutorial](https://colab.research.google.com/drive/1Mh2HP_Mfxoao6qNFbhfV3u28tG8jAVGk) from this [YouTube video](https://www.youtube.com/watch?v=10joRJt39Ns&feature=emb_logo). \n",
        "\n",
        "It will work best if run in Google Colab, rather than Jupyter."
      ]
    },
    {
      "cell_type": "markdown",
      "metadata": {
        "id": "ngQsy2AT256U"
      },
      "source": [
        "# Cloning and Building Darknet\n",
        "* Clone darknet from AlexeyAB's repo, \n",
        "* Adjust the Makefile to enable OPENCV and GPU for darknet \n",
        "* Build darknet"
      ]
    },
    {
      "cell_type": "code",
      "metadata": {
        "id": "HCs4VQmESACk",
        "colab": {
          "base_uri": "https://localhost:8080/"
        },
        "outputId": "1c9871d5-a1a4-401a-b7fa-d20e0420ba71"
      },
      "source": [
        "# clone darknet repo\n",
        "!git clone https://github.com/AlexeyAB/darknet"
      ],
      "execution_count": null,
      "outputs": [
        {
          "output_type": "stream",
          "text": [
            "Cloning into 'darknet'...\n",
            "remote: Enumerating objects: 27, done.\u001b[K\n",
            "remote: Counting objects: 100% (27/27), done.\u001b[K\n",
            "remote: Compressing objects: 100% (19/19), done.\u001b[K\n",
            "remote: Total 14549 (delta 8), reused 14 (delta 6), pack-reused 14522\u001b[K\n",
            "Receiving objects: 100% (14549/14549), 13.23 MiB | 20.13 MiB/s, done.\n",
            "Resolving deltas: 100% (9889/9889), done.\n"
          ],
          "name": "stdout"
        }
      ]
    },
    {
      "cell_type": "code",
      "metadata": {
        "id": "5H-Taj06Tw1c",
        "colab": {
          "base_uri": "https://localhost:8080/"
        },
        "outputId": "5911ced8-cd4b-4269-f4ab-3d72529b62eb"
      },
      "source": [
        "# change makefile to have GPU and OPENCV enabled\n",
        "%cd darknet\n",
        "!sed -i 's/OPENCV=0/OPENCV=1/' Makefile\n",
        "!sed -i 's/GPU=0/GPU=1/' Makefile\n",
        "!sed -i 's/CUDNN=0/CUDNN=1/' Makefile"
      ],
      "execution_count": null,
      "outputs": [
        {
          "output_type": "stream",
          "text": [
            "/content/darknet\n"
          ],
          "name": "stdout"
        }
      ]
    },
    {
      "cell_type": "code",
      "metadata": {
        "id": "aNv1UHwXZK57",
        "colab": {
          "base_uri": "https://localhost:8080/"
        },
        "outputId": "46f291d8-c347-45d1-af99-3a6dc45e169d"
      },
      "source": [
        "# verify CUDA\n",
        "!/usr/local/cuda/bin/nvcc --version"
      ],
      "execution_count": null,
      "outputs": [
        {
          "output_type": "stream",
          "text": [
            "nvcc: NVIDIA (R) Cuda compiler driver\n",
            "Copyright (c) 2005-2019 NVIDIA Corporation\n",
            "Built on Sun_Jul_28_19:07:16_PDT_2019\n",
            "Cuda compilation tools, release 10.1, V10.1.243\n"
          ],
          "name": "stdout"
        }
      ]
    },
    {
      "cell_type": "code",
      "metadata": {
        "id": "3DWRrVatZZZg"
      },
      "source": [
        "# make darknet (build)\n",
        "!make"
      ],
      "execution_count": null,
      "outputs": []
    },
    {
      "cell_type": "markdown",
      "metadata": {
        "id": "47-d_3xy36U9"
      },
      "source": [
        "# Download pretrained YOLOv3 weights\n",
        "YOLOv3 has been trained already on the coco dataset which has 80 classes that it can predict. We will grab these pretrained weights so that we can run YOLOv3 on these pretrained classes and get detections."
      ]
    },
    {
      "cell_type": "code",
      "metadata": {
        "id": "9QDHhDMgZTE9",
        "colab": {
          "base_uri": "https://localhost:8080/"
        },
        "outputId": "f8b1fc02-ba70-4098-81e1-34629d12314a"
      },
      "source": [
        "# get yolov3 pretrained coco dataset weights\n",
        "!wget https://pjreddie.com/media/files/yolov3.weights"
      ],
      "execution_count": null,
      "outputs": [
        {
          "output_type": "stream",
          "text": [
            "--2020-12-02 15:54:34--  https://pjreddie.com/media/files/yolov3.weights\n",
            "Resolving pjreddie.com (pjreddie.com)... 128.208.4.108\n",
            "Connecting to pjreddie.com (pjreddie.com)|128.208.4.108|:443... connected.\n",
            "HTTP request sent, awaiting response... 200 OK\n",
            "Length: 248007048 (237M) [application/octet-stream]\n",
            "Saving to: ‘yolov3.weights’\n",
            "\n",
            "yolov3.weights      100%[===================>] 236.52M   460KB/s    in 8m 44s  \n",
            "\n",
            "2020-12-02 16:03:20 (462 KB/s) - ‘yolov3.weights’ saved [248007048/248007048]\n",
            "\n"
          ],
          "name": "stdout"
        }
      ]
    },
    {
      "cell_type": "code",
      "metadata": {
        "id": "w4Pm0VoqmGia"
      },
      "source": [
        "# define helper functions\n",
        "def imShow(path):\n",
        "  import cv2\n",
        "  import matplotlib.pyplot as plt\n",
        "  %matplotlib inline\n",
        "\n",
        "  image = cv2.imread(path)\n",
        "  height, width = image.shape[:2]\n",
        "  resized_image = cv2.resize(image,(3*width, 3*height), interpolation = cv2.INTER_CUBIC)\n",
        "\n",
        "  fig = plt.gcf()\n",
        "  fig.set_size_inches(18, 10)\n",
        "  plt.axis(\"off\")\n",
        "  plt.imshow(cv2.cvtColor(resized_image, cv2.COLOR_BGR2RGB))\n",
        "  plt.show()\n",
        "\n",
        "# use this to upload files\n",
        "def upload():\n",
        "  from google.colab import files\n",
        "  uploaded = files.upload() \n",
        "  for name, data in uploaded.items():\n",
        "    with open(name, 'wb') as f:\n",
        "      f.write(data)\n",
        "      print ('saved file', name)\n",
        "\n",
        "# use this to download a file  \n",
        "def download(path):\n",
        "  from google.colab import files\n",
        "  files.download(path)"
      ],
      "execution_count": null,
      "outputs": []
    },
    {
      "cell_type": "code",
      "metadata": {
        "id": "HdRrgahoKRJv",
        "colab": {
          "base_uri": "https://localhost:8080/",
          "height": 198
        },
        "outputId": "00b73422-c3d1-4284-90a3-76a95b242c07"
      },
      "source": [
        "\n",
        "# This stops 'Run all' at this cell by causing an error\n",
        "assert False"
      ],
      "execution_count": null,
      "outputs": [
        {
          "output_type": "error",
          "ename": "AssertionError",
          "evalue": "ignored",
          "traceback": [
            "\u001b[0;31m---------------------------------------------------------------------------\u001b[0m",
            "\u001b[0;31mAssertionError\u001b[0m                            Traceback (most recent call last)",
            "\u001b[0;32m<ipython-input-10-f99a240b0e79>\u001b[0m in \u001b[0;36m<module>\u001b[0;34m()\u001b[0m\n\u001b[1;32m      1\u001b[0m \u001b[0;34m\u001b[0m\u001b[0m\n\u001b[1;32m      2\u001b[0m \u001b[0;31m# This stops 'Run all' at this cell by causing an error\u001b[0m\u001b[0;34m\u001b[0m\u001b[0;34m\u001b[0m\u001b[0;34m\u001b[0m\u001b[0m\n\u001b[0;32m----> 3\u001b[0;31m \u001b[0;32massert\u001b[0m \u001b[0;32mFalse\u001b[0m\u001b[0;34m\u001b[0m\u001b[0;34m\u001b[0m\u001b[0m\n\u001b[0m",
            "\u001b[0;31mAssertionError\u001b[0m: "
          ]
        }
      ]
    },
    {
      "cell_type": "markdown",
      "metadata": {
        "id": "8ppsTIG0CtX3"
      },
      "source": [
        "# Uploading Google Drive Files to Use\n",
        "You may want to run detections on more than just the images within the darknet/data/ folder. This step will show you how to upload local or Google Drive files to the cloud VM and run detections on them!"
      ]
    },
    {
      "cell_type": "code",
      "metadata": {
        "id": "NuroGgwKQEs-"
      },
      "source": [
        "# upload an image to root directory (I uploaded an image called street.jpg, you can upload anything)\n",
        "# %cd ..\n",
        "# upload()"
      ],
      "execution_count": null,
      "outputs": []
    },
    {
      "cell_type": "markdown",
      "metadata": {
        "id": "B47c1SJjcVRm"
      },
      "source": [
        "### Google Drive\n",
        "Images can also be uploaded from your Google Drive and easily have detections run on them.\n",
        "\n",
        "You will want to run the below cell to mount your google drive into the cloud VM so that you can access its contents. It is that easy!\n",
        "\n",
        "**NOTE:** We will be creating a symbolic link between '/content/gdrive/My\\ Drive/' and '/mydrive.\n",
        "\n",
        "This means we are just creating a shortcut '/mydrive' to map to the contents within the folder '/content/gdrive/My\\ Drive/'.\n",
        "\n",
        "The reason for this is that sometime having the space in 'My Drive' folder path can cause issues when running certain commands. This symbolic link will stop this from happening!\n",
        "\n",
        "Now you can run YOLOv3 with images from Google Drive using the darknet command:\n",
        "```\n",
        "!./darknet detect cfg/yolov3.cfg yolov3.weights /mydrive/<path to image>\n",
        "```\n",
        "I recommend saving images within a folder called 'images' at the root level of your Google Drive."
      ]
    },
    {
      "cell_type": "code",
      "metadata": {
        "id": "n2ux6Jp5LtS7"
      },
      "source": [
        "pwd"
      ],
      "execution_count": null,
      "outputs": []
    },
    {
      "cell_type": "code",
      "metadata": {
        "id": "j9lmJEnGEu-7",
        "colab": {
          "base_uri": "https://localhost:8080/"
        },
        "outputId": "86972553-b2b0-4633-f4a5-529b3bb92ab2"
      },
      "source": [
        "# %cd ..\n",
        "from google.colab import drive\n",
        "drive.mount('/content/gdrive')"
      ],
      "execution_count": null,
      "outputs": [
        {
          "output_type": "stream",
          "text": [
            "Mounted at /content/gdrive\n"
          ],
          "name": "stdout"
        }
      ]
    },
    {
      "cell_type": "code",
      "metadata": {
        "id": "yreDPcJdoo29",
        "colab": {
          "base_uri": "https://localhost:8080/"
        },
        "outputId": "58f1065f-1c73-4fec-97f1-b32e60bc7570"
      },
      "source": [
        "# this creates a symbolic link so that now the path /content/gdrive/My\\ Drive/ is equal to /mydrive\n",
        "!ln -s /content/gdrive/My\\ Drive/ /mydrive\n",
        "!ls /mydrive"
      ],
      "execution_count": null,
      "outputs": [
        {
          "output_type": "stream",
          "text": [
            "'All Cohen Lab Stuff'\t\t\t Metis\n",
            "'Colab Notebooks'\t\t\t'My Drive'\n",
            "'Data science specialization Coursera'\t'Personal stuff'\n",
            " Documents\t\t\t\t YOLO_FIRST_training_weighs\n",
            " Images\t\t\t\t\t yolov3\n",
            "'Jobs stuff'\n"
          ],
          "name": "stdout"
        }
      ]
    },
    {
      "cell_type": "code",
      "metadata": {
        "colab": {
          "base_uri": "https://localhost:8080/"
        },
        "id": "CoVyMi2EXblM",
        "outputId": "21b2ee2d-2af7-455a-a36d-fa7488db6318"
      },
      "source": [
        "!ls /mydrive/yolov3"
      ],
      "execution_count": null,
      "outputs": [
        {
          "output_type": "stream",
          "text": [
            "backup\tgenerate_train.py  obj.data  obj.names\tobj.zip  yolov3_CUSTOM.cfg\n"
          ],
          "name": "stdout"
        }
      ]
    },
    {
      "cell_type": "code",
      "metadata": {
        "id": "ij5YgMNz5n-1"
      },
      "source": [
        "pwd"
      ],
      "execution_count": null,
      "outputs": []
    },
    {
      "cell_type": "code",
      "metadata": {
        "id": "ucpOylJFWyfn"
      },
      "source": [
        "# run darknet command with google drive image (my image path is /images/plane.jpg)\n",
        "%cd darknet\n",
        "!./darknet detect cfg/yolov3.cfg yolov3.weights /mydrive/images/plane.jpg\n",
        "imShow('predictions.jpg')"
      ],
      "execution_count": null,
      "outputs": []
    },
    {
      "cell_type": "markdown",
      "metadata": {
        "id": "71vvnnAkjlZW"
      },
      "source": [
        "### Download Files to Local Machine or Google Drive from Cloud VM\n",
        "You can also easily download images from your cloud VM to save to your local machine or Google Drive. \n",
        "\n",
        "#### Method 1: Local Machine\n",
        "\n",
        "You can do it easily by using our helper function 'download()' or by right clicking the image in the File Explorer on the left side of your notebook and hitting **Download**. Files will be saved to your *Downloads* folder.\n",
        "\n",
        "This is useful if you want to download the **'predictions.jpg'** images that the object detector outputs. \n",
        "\n",
        "#### Method 2: Google Drive\n",
        "A simple copy command can copy over any file to your Google Drive as it is already mounted. (you must run the mount command above if you have not already)\n",
        "\n",
        "```\n",
        "!cp <file to download> <destination to save file>\n",
        "```\n",
        "See example of each below!"
      ]
    },
    {
      "cell_type": "code",
      "metadata": {
        "id": "T-T18ze3kWOY"
      },
      "source": [
        "# LOCAL MACHINE DOWNLOAD\n",
        "# if you get an error first run then run it again and it should work\n",
        "download('predictions.jpg')"
      ],
      "execution_count": null,
      "outputs": []
    },
    {
      "cell_type": "code",
      "metadata": {
        "id": "G9ah8jzAlSA1"
      },
      "source": [
        "# GOOGLE DRIVE DOWNLOAD\n",
        "# note that I can change what the image name is saved as (I am saving it as detection1.jpg)\n",
        "!cp predictions.jpg /mydrive/Images/detection1.jpg"
      ],
      "execution_count": null,
      "outputs": []
    },
    {
      "cell_type": "markdown",
      "metadata": {
        "id": "h4F90N1lhXR2"
      },
      "source": [
        "# Training a Custom YOLOv3 Object Detector in the Cloud\n",
        "\n",
        "In order to create a custom YOLOv3 detector we will need the following:\n",
        "\n",
        "*   Labeled Custom Dataset\n",
        "*   Custom .cfg file\n",
        "*   obj.data and obj.names files\n",
        "*   train.txt file (test.txt is optional here as well)\n"
      ]
    },
    {
      "cell_type": "markdown",
      "metadata": {
        "id": "DWaLc6AZozBl"
      },
      "source": [
        "# Gathering and Labeling a Custom Dataset\n",
        "In order to create a custom object detector you need a good dataset of images and labels so that the detector can be efficiently trained to detect objects.\n",
        "\n",
        "This can be done in two ways. through  or through using Google images or creating your own dataset and using an annotation tool to manually draw labels. **(I recommend the first way!)**"
      ]
    },
    {
      "cell_type": "code",
      "metadata": {
        "id": "0_JRC13hK7Zr",
        "colab": {
          "base_uri": "https://localhost:8080/"
        },
        "outputId": "c5bcf0e4-0fcd-44b8-d451-1717d8369687"
      },
      "source": [
        "# this is where my zip is stored (I created a yolov3 folder where I will get my required files from)\n",
        "!ls /mydrive/yolov3"
      ],
      "execution_count": null,
      "outputs": [
        {
          "output_type": "stream",
          "text": [
            "backup\tgenerate_train.py  obj.data  obj.names\tobj.zip  yolov3_CUSTOM.cfg\n"
          ],
          "name": "stdout"
        }
      ]
    },
    {
      "cell_type": "code",
      "metadata": {
        "id": "YpljhMVHOx9X"
      },
      "source": [
        "# copy the .zip file into the root directory of cloud VM\n",
        "!cp /mydrive/yolov3/obj.zip ../"
      ],
      "execution_count": null,
      "outputs": []
    },
    {
      "cell_type": "code",
      "metadata": {
        "id": "45en565PPLce"
      },
      "source": [
        "# unzip the zip file and its contents should now be in /darknet/data/obj\n",
        "!unzip ../obj.zip -d data/"
      ],
      "execution_count": null,
      "outputs": []
    },
    {
      "cell_type": "markdown",
      "metadata": {
        "id": "bVst_Nyhkq0B"
      },
      "source": [
        "# Configuring Files for Training\n",
        "This step involves properly configuring your custom .cfg file, obj.data, obj.names and train.txt file.\n",
        "\n",
        "I have a detailed video on how to properly configure all four of these files to train a custom yolov3 detector. I will spare the time and ask you to watch the video in order to properly learn how to prepare the files.\n",
        "\n",
        "You can access the video with this link! [Configuring YOLOv3 Files for Training](https://www.youtube.com/watch?v=zJDUhGL26iU&t=300s)\n",
        "\n",
        "## i) Cfg File\n",
        "Copy over the yolov3.cfg to edit by running the cell below."
      ]
    },
    {
      "cell_type": "code",
      "metadata": {
        "id": "e8DY8fleN8Rj"
      },
      "source": [
        "# from google.colab import drive\n",
        "# drive.mount('/content/drive')"
      ],
      "execution_count": null,
      "outputs": []
    },
    {
      "cell_type": "code",
      "metadata": {
        "id": "GW-mf5ha25QX"
      },
      "source": [
        "pwd"
      ],
      "execution_count": null,
      "outputs": []
    },
    {
      "cell_type": "code",
      "metadata": {
        "id": "Uk0yNelLnTmg"
      },
      "source": [
        "# download cfg to google drive and change its name\n",
        "# !cp /darknet/cfg/yolov3.cfg /mydrive/yolov3/yolov3_CUSTOM.cfg"
      ],
      "execution_count": null,
      "outputs": []
    },
    {
      "cell_type": "code",
      "metadata": {
        "id": "VXHsq4UuoW7a"
      },
      "source": [
        "# to download to local machine (change its name to yolov3_custom.cfg once you download)\n",
        "# download('darknet/cfg/yolov3.cfg')"
      ],
      "execution_count": null,
      "outputs": []
    },
    {
      "cell_type": "code",
      "metadata": {
        "id": "zoLnHfZDXJyg"
      },
      "source": [
        "pwd"
      ],
      "execution_count": null,
      "outputs": []
    },
    {
      "cell_type": "code",
      "metadata": {
        "id": "FKGP15SmrXLe"
      },
      "source": [
        "# upload the custom .cfg back to cloud VM from Google Drive\n",
        "!cp /mydrive/yolov3/yolov3_CUSTOM.cfg ./cfg\n",
        "\n",
        "# upload the custom .cfg back to cloud VM from local machine (uncomment to use)\n",
        "# %cd cfg\n",
        "# upload()\n",
        "# %cd .. "
      ],
      "execution_count": null,
      "outputs": []
    },
    {
      "cell_type": "markdown",
      "metadata": {
        "id": "JcSrw86FzgkO"
      },
      "source": [
        "## ii) obj.names and obj.data \n",
        "Create a new file within a code or text editor called **obj.names** and you will make this file exactly the same as your classes.txt in the dataset generation step.\n",
        "\n",
        "![image.png](data:image/png;base64,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)\n",
        "\n",
        "You will also create a **obj.data** file and fill it in like this (change your number of classes accordingly, as well as your backup location)\n",
        "\n",
        "This backup path is where we will save the weights to of our model throughout training. Create a backup folder in your google drive and put its correct path in this file.\n",
        "\n",
        "![image.png](data:image/png;base64,iVBORw0KGgoAAAANSUhEUgAAAagAAADICAYAAAC9MXUuAAAgAElEQVR4AeyddVtcWbr2309SbrgV7i7BIVhCBIiSEEJCDAshxDtuRAiaEHcneCHl1j3TMt3pme6eOefMnDNnzlh3z/T9XntXUQKFppIUyfpjXVBVey951r2e37K91/9jMBgggdjgTTXA4/HB5wtIIDYgGiAasJsG/t+bOiZyP4EbpQECKAJn0kEhGrC3BgigyAjSLiNoAijinOztnEh8RFMEUARQBFBkSsZuUzIEKgQq9tQAARQBFAEUARQBFNGAQ2qAAIoAigCKOCeHdE727ImTuBbmyI4AigCKAIoAigCKaMAhNUAARQBFAEWck0M6JzLqWZijHnvWGwEUARQBFAEUARTRgENqgACKAIoAijgnh3RO9uyJk7gW5miMAIoAigCKAIoAimjAITVAAEUARQBFnJNDOicy6lmYox571hsBFAEUARQBFAEU0YBDasAugBKLxTh5+hTOnj83bTh15jRCQkPt4hAZUen4/If/RMd+32nj43uHYWlhIYLdnaa9zvqdgnFQfPdH9J2qAosAbFZ2I686Ir1de/acSVxET5QG7AKogMBA3Lx9C3cf3J823LpzB9ExMbNyeNbAsPFC1ths/Mc/fsbd4/7Txpe8pxM//eufaFuWMe111ukl4cu//QLFpYZZA4rN4SN2URoiRMI5pGOjXG8NiEz4hMaj/vhlPH/5Et3d3bjd3oTivCQ48ZhvnGcCKOJQCFSIBuytAbsAislkgsvlzipQ11rDYJ5OepaAYvGdQY3wRDzOHNKdO6BC4tPwn3/9P1yMCZtDOvMs+1whxmQjsqAcz/tHIJfLrYN0DPeu7Ie78M3qhQCKOCd7OycSH9GUXQAlEAiQtCgJi5KTrUKovabzbDnkWQJqfjCcO6DCkjLxl5/+4ZCA8o7Ix5P+UWswWYFKhpbaVW8EVgIo4kwIUIgG7K0BuwAqLCwMw2OjkCkVVuHUmTPzdHpshKQX4W6fDF9/8y2+ff0a8r4HWBkfChbTOOowAur+2Ugs23UK+s+/xrevv4Gy7y5yE4PBNELNx383fv315yjIiJ4iLxwkl2yFRP0Fvv32W3ypHcX2onJ8NWGKL37xKjwcsMjPy2uID/Wg49x3cwA//P4P+Pcvv+AvP3yPb7/9Bq3VMWCwuUjI3oDH/Qp889pQjrEX15ER7DpFXt7CiIrlhD1N96eBk2FEJRt6gEjB/NMngCLOyd7OicRHNGUXQHE4HPj4+MBHLLYKrq7zc8RRxVX401//idf6YRzfX4u6w+eg+OL3+PH//oD6JYEG524E1G9/LcfXn0px5nAdDp5uw5e//1/83x8+Q1awO32dX/Ax/O3nv6E4L8EGFJjI33kcf/vxR/x67CUaqjfjTNtD/OE//4S//QSrNaiXn/0Aee9THNm7C7WHzuGb//4bvlfdgpuAhYSCYjR8chJ/+/lHvDjciM1bypET6w6Gmz+e6L/GWO9DHKmrQsMnF/D6j3/H71V34cWePwzmMirkuolx9cXwjICSy2VYnyGyYaPZ5ZMAijgTAhSiAXtrwC6AotafgoKDERwSMn0IDgZfIJjeCbK90f/tP/CD6ja8XLima/muCZB8/1f8oLxpWNQ3AupPXw0i0md8YwITwSmr8cNff8Kr82voe6cDFIsfDMV//ISvB5rhwmcZ02IhY9MJ/PSLNaD8/P3AsVg/W1L1GD///T+Q7+1G32dzio/NgY+fDziscSfPwooTt/Gvf/4RRQnj373dv3wPP9x6Nd30nnlNqrwgwGTvuUCQupYAijgnezsnEh/RlF0AFRYejlGZFAq1atowJpfRa1TTOr+0Uvz4C3CxJnWSsyw+Pop//e+38HYRgmEEVPfltabpPDpeth+e6/6I343dgguDgekAxVlSh5/wCw5ujLVOi5uKr/9uvYtP4CpGZm4JTjV3oa9/CF9+8yf88vP/oFJsmOazCSgGAyJ3MZJXrMfZSx3oHhjDr77/I/7901+wbvHbBZPJxkIPnL39auYRlGwIBSHz3yhBAEWcCQEK0YC9NWAXQPH5fERFRSE6OnraQF0jEk0/jRRWsgO//PIz9i5nW0ODwUDuqpv41z//E4VuziZATd5m7o270t/jv7RP4DsDoJJ3ngDwT2zJmggL600SgqBkDHz2A/7yp99DLZfh0a12tHT04+efpgeUa0gWhn71Hf78Xz9AK5Pg/o1rOPlo6N0CisFCzrZTkFptijCPmsZ39fXe+AQ8W5tRZvkdARRxTvZ2TiQ+oim7AIraOk7t5JsqUGtUph79DA6Pl7MJP/3yC85un7ypoegTCX7+81fwdhGYAPXglPV1LOdgDPzmz/iy/yI4MwDKdcMB/IJ/o77Eyzp/gnz84WfzCGpFwzP8668/YGWkP5jGTRrpxZ34aQZAbW3pwT///BrFi7xMz1MFNbS8Y0AxwHUOxKnrzyCbAlKjQy+wIs7T2gYz1NPE+iSAIs6EAIVowN4asAugAoOCcO/BfTx6+sRmqKqpnr3z44VB8Ycf8dvR63B3Mq9B8YQx6P/2//B1fzOEHKYJUN+p7sHf2TjaYrIQX7QXf/7nP3Gt2vBgrvUUHxPO7mKEBvmDx2KA7bEUP/zj39Dc3geBadMCG4W72vBvmNegNtz4FD/9UQ8vY37YXAFOdX9lNcUXmpiJ//3xR3SuiTKV9fRjGf76OyViuYb1LRbfExeff/bOAUXBxMknFHtOtaFnQAKZzDCCGhsewuNbrViSOP+1p3FQEUAR52Rv50TiI5qyC6C8vb1x6MhhHD1+zGYoLik2Oe1xhzbd3+yKk/jrP3/CF8oeHKjbjh0NxzCseo2//fErrIo2vtrIuAb1v3/6AZ8OPsKenVvxSdNV/O6//47vVI8Q6sqn07QCFNcJZ15+iZ//9l8oShaCwWShtk2Cf/38D4w+uYrtmzfhTMdjfPfNt/iPH80jqMyNF/Hjv37E2IMWlFdux80Xo/ivH37Avy1GULygOHz5p3/gh8+6UV1di+rVgUjf14Uff/oneu9fQeWWatzsluOr3//pvQCKtjeTBe/AMCQlLUJy8iLERoZCyBvfHDJxmnNunwmgiDMhQCEasLcG7AKo6WAzv984SF1egT75Z/jhhx/w3e9+h6HHnciMDzJNsTEiU6H9+ne4fjwbp29043fffY/vf/sNXlw7jTg/8zqXFaBYfFSeeoRvPh1Gip9x1CXywrbjHfjN6+/ww/ffQT34ALlRyzDym+/x4uh2w9Qc3w2VJ27gm99+jx++/x367pzDhrVn8O23v8YG4y4+BoOD/Iqz+Pyb7/D9d69xflskOHwP7Gm6Q8f9/e++Rc+tC0hubMJ3336BFWlzA8D87Pju0iCAIs7J3s6JxEc05aCAsp9j9c87h7//+BesyHLAVxDNcZ3HkSFFAEWcCQEK0YC9NfBhA4rJQumll/jH/3yJ9ODJuwId2eEvtLwRQBHnZG/nROIjmvogAeUpXorGuh3Yuf8cXv/33yC9seeNtlAvNFi8j/wSQBFnQoBCNGBvDXyQgPIP24bf/vEv+Mv//BH9t0/Cx82wYeJ9OO6PJU0CKOKc7O2cSHxEUx8koD4WKDhSOQmgiDMhQCEasLcGCKA+oI0K7xNYBFDEOdnbOZH4iKYIoAig5vSM2lQQJIAizoQAhWjA3hoggCKAIoDiE8dib8dC4iOasocGCKAIoAigCKBgD2dC4iBQsrcGCKAIoAigCKAIoIgGHFIDBFAEUARQxDk5pHOyd2+cxLfwRngEUARQBFAEUARQRAMOqQECKAIoAijinBzSOZERz8Ib8di7zgigCKAIoAigCKCIBhxSAwRQBFAEUMQ5OaRzsndvnMS38EZkBFAEUHYBFIfDAYfDJYHYgGiAaMBuGiCAIoCyC6CmesME+d5+Z5sRWxJbfmwaIIAigCKAIhogGiAacEgNEEARYTqkMD+2niIpLxkdEQ1M1gABFAEUARTRANEA0YBDaoAAigjTIYVJepOTe5PEJsQmH5sGCKAIoAigiAaIBogGHFIDHyyg2BwB3Hg8hzT6x9YLIuUlPX+iAaKB+WjgrQGKy/dBcmoqAl1E7x4SLAG2HO1Cz83zCBHx7Z4+9cxPQEAAAgMDpw0BgQEQCAR2Sp+PkIhI+Hq52ik+6wbjFxKBED+PtxL3fIRJ7rGuH2IPYo+PUQNvDVDiwM3Qffk5DqTHvXunx2QjfHk1ZJ99gYHbTQhxshckDI0kOCQYQyPDkCrk04YR6RgW5+TYqfxBONV+FVWl2dPG5xm5FCdOHUdu8Bxgw2Si5nQnztaunDbuj7GBkDITMBANvD8NOBSgfCNS0HHvNvKZzDd3lEw2koprofjVlxi4cwGhdoSUUCikwZOXn4/pQk5eLtw93N+8LPT8+OwA5R6cjb379iLN12326c4DUFwnT5Rur8OS6PcwQibrBbOvW2IrYqsFrAGHAlT2um14/VqLYpYdAMVggMliI3nDPmg+/woDdy7aFVLvvlc1O0DNK1/zAJRbSDzarl7FuiQn4gAWsAOYl15IeYnm35EG7AYogZsXIiKjER0djbAgPwSEVEya4uPwnREcFkFfQ10X5GuehgoIi8Km3Yfx+vWnqIqNRXR0FDxEBlBx+a4IDY803heFAG83MGdpIApSqRsboaMgddc+kPIPCMDd+/fw6Mljq3D0+DFQ61Pza/RMuHh4IyDAsK7l5+MFLstyaG0GFJsrgK+fYQ3M18cTHIsRJ4frDP8Afzhxp84Hk8WFl9iPXj8L8PeFkMeZPMXHZMPdS4wA4zqb2MsdLKPNhZ5ixGYUoOPqVVQWRtHxeLiw6XIzWRx4eo/fFwAfT1ewmJblIP/PTx/EbsRuH58G7AKokMSleDIow68/+xRyuQwatQI3zjXjU4s1KL7IBR2PB6HX66GQy6DWfobPNKPYmB9GO7ZzD4eg0urx+vXXUEulkEol2JDKBsM3Fre7hw33yaTQ6H8FvawPq+LEswYBBamCLQeg//I3GLx7CWFvON3n4+ODcxeacKn5slWoqq4Gm21w1HNqTGw+ctfuwMXmFjRfvICmC5fQ3taCg9Ub4SIcj88AqN1b12Hn/hO4eOECmi41o6OtBfXlKyBks2h7+AQWoK2zFXn+XjbtwxJ5oHTXQbS0teFi03lcvHQZJ/ZWovGc9RrU8m0HcLn5Ci5eaELTxWa0tzajND+W7hjEbdqD8xcvoaurCy2XzuPcuXNYl0Nt3nBGadVBw31N53HhUjPami9gXWbYrDsUc7LbLDspJM6Pz7GROv8w6vyNAcXxCsOjMR3krzqRFhsKD08PRKcsw/NRLb752rxJQujkghOfNCIxIhRenu7wDQrH1X4dPu1rBYfBgMjFFYWba/H6tQ6lHu5wc3MFn8MAIzAJp4/uQkxECLzc3eAXnomnil9j+NYxiNizrwQKUsv3XMTX33yNO4eX2XTe70fUTMQXbMHVq21Ym58CD1cniJxdEZWyBJc6rmF/eYFx5GIAVGdbMzatoK5zhpOrB9KLtqPjajvWpRuAPS2gmFzkb9qHztYLyE+OgLOTCK6eYpRsP4RrXdetNkms2LgZ4YF+cHUWQeTijqJdx3D18lG4cdlgc3kQRyWj/epVlKZ50jsVuWxqtOuG1aXrEBHsB1cnIZxcfbCx/iTamg7D19k+07bvp45mrzOSP2IrogH7aeCNARWz/Ci++FyH1fH+Fk6fiZiSE/jCAlDjlcblCeDh5QP/gCDUnXyO17+WIM7YE55uDYotEMGTvi8Q2+9K8Jm0C+5OszcEz90PJ2/34YvPFKjMj7LI6+zjGC+Dl7cXqOm8k6dPTRuOnTyBqOjp02IyRWhs6sSJ7cWTRhnZq/fhWstJ+NKjIwOgzu2rAM9ijY7JccOe01dwur4MAgYD0wGK5yTG8eZO7FmVYZUWi++NEy1dVoCiyspksSAUOcPdwxPJuSW41nUFGTwubbvp1qCoaT6Rk+G+2OIqXG2/iAh/slY1rh/yd+5tjtjs47TZGwMq+/wj/FrxFP4e41NRBkNO3GbOEriiZNtBPHrejTG5ClqtBp/+6ku8/mIYi6YBFIcnwprq43j4sg9yuRIatRaffv4b/Ep2He7Os6s0SzjtWJ5iWkuZr+ip55+ePH+G7t6eacPz7pfIyMyYFoZMbiIuX7+OtTmTQRa8KB9dXS3IdKJsawBU7YYcK7hQZSipP4MrJ3fDhTc9oJw889FytR1ZsZadCQYY1CaJMxZTfEw2AmMzsLvxIE6fbcKly5dw5Uorrl+/gqxpAEWNUkOTl6Bh3yGcOXcely5dRnNLO661X0JEgMu0dphvXZD7ZtcGiJ2InRaiBt4YUNvbX+HTsTvwdbUWgDhwC/RfjU/xsbG87gK++FyP83s2Ii0lBTGR4dhx6P6MgCpsvIavPlfj6K71SE9JQlRYCFZf6581oExw+lQBe8DJ3pXM8khD6/XrKMkKneTA/RNz0dXVimw3M6AmPwfFxLqGc7h8vAYu3OkB5RxVhParbUiJ9LZOi8lErQWg3MPT0NJ5FXs3lyA6MgKB/mLEpufTI6jpACWOWoYrHW2oLltB12+ArxihBZW4SgBlbW+ydkbsQTQwKw28MaCS9l7Hbz4bQ0qg5RsOmIhcfw6/GZ/i47vi3FMFlM/OgzdeMUw2qi70WgNqLbXNXIcSrmHBn4JB1/DnGO04Au74TjAmGwceSWcFqIlwYo+n/YZ/+Xw+klNSkJqWZjOEhYfPyvhU+ZgsHxxv6cK+svxJI6OUwhpcazkBL4spvsPbimBZDibfCweaWnG0ejW4M0zxiVwW4VLnVZRnx1jlj8UNxJl28xpU2pI9uH7lBJwsdgdGZ25Cl60R1CLz1F3OjqNoPbcPHsLx9SYmIktqyAjqDfVm704Ric+6M03s4bj2eGNA+UYuherXX+J5cy183UXg8wXwDU7HkyGNeZMEzwWnHsrw6fBthHuKwBcIEZVVDOlnX1kBKn5lBb55/RWql4ohEArpTRKt/b+C9sVVeLo6gS8QIbZgF1S/nnmKzwSnz+w/cgoJCQH1lgiFWmUznG9qsgLA9A2AidyyfbQTXxwXDD6PCw6XB8/gWJxu6cS+8gIwaTgbpviutjYhK9oLPC4HPL4IGWt2oLOjBcujPOk0rdegmAhIzMO2ilJ4ObHB4omw/cgFtJ4/gHBfZ3A5HPCFTliytdFqk0RyQS2ud1xArI+Q3jbv5B2ChrNXrKb4uP5RuNJ5DTuKo8DlcsHjMpGx5TA6Lp9AqI8LfZ+7TwwOnb2CLjKCmoMeHNdZTK9jkm9iH/tr4I0BxWDxsXJvMz79/Cto5cN49vwlFCol2o9cgd60zZyFuJJGaD//ElrZMJ5290KjGsO92y+tAMXwiEOv6gt8rlPiZW8vKrLYSFq/H7/64iuoxgbw/OUAVLJ+nHg2wwiK64yaK8/oDRFvY1qPx+MhMirK9DwX9UyXZfD3n7DGM0MPmiXyRHn9cXR2dOD0scM4ePgYWtvacXxPBTwE46MRA6COHW5A0+VmHD9yAMdON6GzoxW71mSBY3xmyhpQXKypOoauzitIDDFM63kGp+LEhVZ0tl7G4YP7cfLsRRyr24C9FlN8Qs9InLzcgfYrF7D/wEFcuHQJu6vKrab4GBwnbD/chM72Kzh8+BOULXGDa+AinG1uQ+ulczh48BAuXGxC5a5DZIpvhvonjs3+jo3Y9MOw6ZsDimp8LA4iFmVj1erVWL2qGKmxwRCJQlG0qgRxXsZX7jDZCEvMwqrVa+hrEsO8ERydjTWrCuFh0YB9QpNRsoq6ZiWCPCjnzEFMag5936qSlYgJ9IY4vQAlyzPBo7ahW9xr+b9XVCqKs+LfeEOEZZxv9X8WB6HRicjIzERmZibiI4OtpvIYDBGS0jMQGewNF3Eo0jMykZmRgZhgX6sHYX0Cl9DPQeUYn4NyFociLTkBQt446Bjgu4mRnJZOp7MoLhw8FgNRSRlYFGUGq5NHAFLTM5CZmYGoEB84uXsjIzMN3izz9Ctf5I2UtAxkZqQjyMuwu8/ZJwRp1H0ZGYgI9IbQOxQZ6SlwERl+f6s2nEILJM2p2wmxDbGNI2vAPoAijmFKUL7ryveP3YD2tgsI8HZ2mDy9axuQ9IjTJRr4MDRAAPUhwJXJBIvFAostxOr6k7h8vA5uvA9DoMTRkHokGvh4NUAA9QEAyisoAseOHMThE+fQ2d6MvATzVB1p3B9v4yZ1T+p+oWuAAOoDABTf2Q0Fy1Zi5fJCRAd5TdquvtBFSvJPHC3RwMepAQKoDwBQpPF+nI2X1Dup9w9dAwRQBFBkMwXRANEA0YBDaoAAigjTIYX5ofcMSfnI6IdoYGYNEEARQBFAEQ0QDRANOKQGCKCIMB1SmKR3OXPvktiI2OhD1wABFAEUARTRANEA0YBDaoAAigjTIYX5ofcMSfnI6IdoYGYNEEARQBFAEQ0QDRANOKQGCKDetTC5QuzvfAmlUmkKnVuKHVIcpIc3cw+P2IjYiGjg7WlgYQCKxUVgeBxKt+5Cfc1WePE4C9ehsziIzyrE6lWrsW7XSWj0etzYtmrhluddA37G9MS4/KAfCoViQhjFgdRYYucZ7ff2nA1x5MS2c9WAwwNKHJ6IzTtqsLtmByp31aOxfju8+QsYUBYOghu/HioCKDtDwxdtz0Yw9Ow66nfXW4Q65AeK7ZwWcThzdTjkeqKZuWjA4QEVk7sO64vy4CbkImXVjgUAKCZcxCHIys5FXl4echZnIyLAw+b78WYClItnAFLSM5Gbl0fHlZWWBHeBDTgzOQiMSkROruG6vJwcJMeF00fAW4qBxeYjdlEGHReVt9ycbMQGG07itbpO4IyktGz6utzFWQjydrHp2OlyLs4xxJebh6zUJPC5NvJnAWXLdN7O/wZA3btYbTPPbydN4nSIXYkG3oYGHB5QLBbbdCBfsqMDis1HTvkBDI0poNVoIBuTQqlSQ/KsHYE2nPT0gPLHrQE5NFQ8UimkMgV0Wg0GnnQizHg4IC0Irgjbj1+DXKWGSiHHGJWmWoPBB5fgY5Emzz0cTbe7odZoIZdJIR2T0f/fP7bGypG7eMej40k/VEoFert7IFWooBjpRWlGoBVkk1fWQSJVQKNSQjo2BplcBZ20FwE+rlbxvQ3RTh8nAdT09iGOlNhn4WjA4QFlKSZHB1R49k6MqbV4dfs84oLEcHZ2houbO5IzM+FqAYvxMk0PKDcsL1kKsZsbXJyd4ezsgrTSvVBpdbi4p8gEC//YfDrNriOl8HR1MaTp6gpxoB84FmnmVJ2GViNHzYpEY3zOcHVzg7+PuwVQnHDkdj/U0m4sifeGUCCEm38MWp+PQTlwB2I+23AtLwT3hhQYetSCYC93Q5ouLvD2FoPLNV5jkfZ4eW39ZXG4ONF6F3fv2A6nKopNZbV1/+TvDIB6cfMssrKy6BOBE2MjIeSaTwKefM/CabAk76SuPiYNEEDN0pHOKAqWG07f7oNq+Cmi/Z0snP7UDWp6QBnuoxy4j18QgoODERyah26FBs+bGsA35jswrgQytQ73mqoR4uM+pTNfWncOWo0SB7csh5cL32b+BPErodLpcaXGetNG0rIaaHUaVC01wsw5DA+GVRh9cR0pMYHgsMzHyc9opwn2ZrE5OHCuDW1ttsPB0sIpy2Q7LR9cvNcDKTXqlMqgUmugUSvR87ADyUG2pyptxzN1vZHriW2IBt6NBgigJjjMeQvPKxSPJQr0XD8OV+bsKm9aQDEFyCvdixd9AxiTyiCXyyGXK6DV6/Hiwl4ToJhsZ+w61g6ZSgvZ6DAe3+5E+fIs+LjyrCAk8AhE041n9JThiGQAN1pOojAtHk58M1ySiyuh1+vxsOsSjh87bgrnW65Dp9PjyOZFxjiZSCyqR9+oAmqlDD3PHmLfjlJE+HuCZS97zjseFpxc3ODu7k4HT28/rKk+Bplai+6uI3CZd7yzq9N564fky0qvxI5Eb5QGCKDs5Rh8wvF0WIme6yftAqjYgm30dN6zm+eQHRcJsVgMsTgLz+VqK0BRlchic+EbGouaA6dx++FLqDQa9D/uQISnwKrRc/kihKcW4MjZK3jSPQStRo1HrQ1wMgJ1kRFQPc/voaura1LYXBhhER8LLl5+WLelHm3X72JMoYZiuAcbFgVYXDNzI2NzuGi+34OeHtuhpWr9HEdQk9Nk8j1x4aEECskTRHtM/p04Q2ITogHH1AABlL0AxfLC5UdDUA4/RWKAaFZOeroR1OpPHkCvH8EKZ/NISOSWSU/xWY6gJjYsDt8J2eXnoNGrcGhl+BT5YELg4o2Gi0+g08hQGGMQpyCxCGq9Hid2Lp3iPtsiZrK5CEkphEShxaNLdabR3cS82fpMTfFVHTyN06dsh5qinDcGFNc9DDd7ZRh+2gJftu0y2Mob+Y7Yimjg/WrA4QHFF7nBx9uHDnmlu9C4ZxeiA/zoz+4uwjk50rcttoTSw1Bptei5ewk5yXEICw1DZHQsiteugqcRhEwWCwHBoQgNDUXksioaCPf27aA/h4YGQWi8btmuNuj1WhytWIKwsHBkFW7A455RegrOElBiv8UoyElBdGQEwkJDER4Rgx1Hr0OjkWJLfKDRPhxk5i9H6qJ4RISHIzQ0DFGxybh4tx8a+Sski40iZDmh6cEw1LIBVK9dgojwMPra6JgElFVWgMM2bjTwDMDaFXmIjY6i06Tyl7NuN6RqLdoPrX2v03wsLg9BRvtS5YxLysa5a8+gVo2hYVXCG8PubWuIxP9+HSKxv2PZ3+EBFZGxFnv37jWExkY0NjaaPpetSHmvznCimNlcIdZUn0DP0Bg0Gi39KiOVSomXd87BzwgevpML7vePv+ZITQOHmmozvPqoB5nG6wTiRNx4NgitVguVUgWlbBTXzp3G41HrKb6o5H2QKtXQqA1xqFQqjEn6cKa+FHzO+M41AXYevwG1RgO1SkWnpVYpMdTzDDuXp7NQVGoAACAASURBVFg5baeAZLTcfgaFSm2+VilH952L4HKMO/RCktA7IodWrTHm25C/W81HEeTBfa+dBtegaHRL5MZ8KaFWKdDz7AG2FS0Cj21eb5tYd+SzYzkmUh+kPigNODygeCJXeHl52QxuDjaCohsVkwU3bz+Eh0cgIiIC4WGh8HQTmiDAZLERHGb4jfrdOoRCZAQUFZfA2QthxniCA3zBoV75FBqOYF8vU3wcngs9YjDFEx4OP29307NjhobOhJObN0LDwkzpUfnycrM9AmXxRAgKCTVdGxYcCGfLB4SpNa+AYFMZqbSp/HFZ40B8f42LI3JBRvoic95Dg+AqMk+TGuzx/vJH0ie2JxqYvQYcHlCkMmdfmcRWxFZEA0QDH5IGCKAsRiwfUsWSshBHRTRANLDQNUAARQD1XteMFnoDIvknECAaeHsaIIAigCKAIhogGiAacEgNEEARYTqkMEmv9O31SoltiW0XigYIoAigCKCIBogGiAYcUgMEUESYDinMhdLDI/kkoxGigbenAQIoAigCKKIBogGiAYfUAAEUEaZDCpP0St9er5TYlth2oWiAAIoAigCKaIBogGjAITVAAPXBCJON+KzlKEiNcqj3E867p8Zkgs1mg8V0wPfnmfLmKD1xFmIzClGYEQX2LM8im3e9fDDtxVHqjuRjOi0SQH0gDc4vshCjKh208n6k+Vse474wG0Bw7nro9HrsWRfrcD27mLydUGtk2BDjGCf0ekWn0XWvUw0iz8vV4ew1nQMivy3M9vmu6s3hAcXkCJCYUYBtVXX0m8wb6mtQUpAOJ9Obuh2rggMKatA70IfSiLkd3PemFe7im4jHg0pIu28i0N36oMI3jft93P+mgNq47yL6X91BqI+99SHE4bsSSO6fh4Br/XJc//CVeNY/iP0r/d4pJJx8ovCwXwZ5721Eur6bum+49AC9D09DyHtz+/KjluNJzyCOrsp+p3Z7H7omac5NLw4PqLD0EtTXbEdeVhpiY+OQvbQEe/Y2YsuqbHBYcyvsuxBHxIbT0GqkKI0cP4vJ8fL4Luzwpmm8KaDqrzyGUvLQ7oByj82HTKPBodLJI7vwxEootBocKnq3gHpTW8/n/ovPFBh9fs4ugBKmboZap8WxNTkEUB/IjM58NGXrHocHFIPFg5PQsqfKRvb6XWisq4S74P2ePWQ2qBMK12xERUUF9l56AJ1OhUuNu+nP1HebN5XC18N4tAWLg/Rl61C6Ih1MJgfJuSuxeXMFNpdtQISv9fSMV0AMVq5eh/LNFXRcpauWwc/JuswuXr4oKzf8Tqe1cQ1cRdbXMHhCLFlbhuKccLBF3li22pDXDWuWw9PKtu8TpmwkZC2jbUGVo/rw2UlTfGyeM1JzC1G2qZy2x+ZNG5CVEGw6WoTv6oXSTZvp3649G4RGPoCGGrNtytYug6vJATDhFRiJ5avWm9LcsKYYAe78aZ3kuiP3oBq6hwA+x3Rd1spSOs29B1uh1ulw61wd/ZkqR8XmMkR7jE8F8pBRsAbrV2SByeIgMWcFNldUoHzjesT6upnio3Tl4h2MpUVrUW6s27J1qxDqbX08isgrAJss6r6ibC1Ek9qEELkr12PNsgzweS4oKFpH561sXQnErtOX1axvgy6cfUNNtnosUdMdgO2VZvuuXZIBLoMBrpM71mwsR/nGNXC3OOqEyRNh6ZqNKC9bB29XEVJyV9N52X7kCrR6He42HTfbraICCaELf6p6og3J57n5GMcHlMmhmAsWnleGxvod8BE6yjk/Yly4/QJDg0MYGVVAp9dhbHiY/kx9N/jqKRaFexgcEFeEw9f7MPaoBSc6nkOv02BEMgy1Tg/N6Askio2HAjIC8XBMC51Wi1GJBJKRMdphywcfIinAXG6/qEXo7hui05KptNCOvkSI2MnK2TFcvND6SgrJk3bcejUGnVKGkVEZ9Hodeq4fhosNG7/LhsR0CsCxa8/pwxvlYyMYHh6DVqenP1uuQWWvvAytTgelXArJoARylQZ6nRrnqpeAy2SAOqzwcfeAwRZKDXRayrYG21D18PLeZQQYy8oVOqOrVwW9RkvXlWR4DDqqDsa6kRFsDYtxW7Dc4/BKrkHHgfVgW9hsX+sTOs3hESld9/JRc90P9XdjVbi/sT5ccKT1FUafduJo+1M6f6OSEai1eqilr5Dmb663M08U0Gt1kI4MY0gySttDI+tHYYyPqW49o9Pxqm+QTluq1EAv64GPh7Ppd0O+vdB0dxCjPQ9w++EgtBoFhkcM9pU8vgJfJ3O7Gi/nVH/Fi5ZgYMBgT4VaB61GBcmQ2b53zzYYzzNjYUnlWXpU1LGvBDx64wYTqcUHodRq0NqwAXyGEFVHb9J5lwxTdtNDMTZKf6bqigqbloRMKMvs8zpVGcj3C8uGCw9QLD5WVtSirnLdpDWA9yk+JpMJKkRuNEzxbYgMpD+Pf2/KmxFQFBx67zYjKciTvi5keRXdSA9vzjU2SiekZiRBwGKZ4glbug0KjQ4tB9Zb7dQbT2N/58tpAUUdIf+0/RMEuHPBYvOw6+xd6LRKrFxk3TM35dXCCVt+l1p5Hj09vei1EbofdsHPcw7xMdko/+Qm9Jox1BQmmsoanl8+aQTl478IIV4u9M4+qswcZ2+cejgE9fBjeBpHA+O22NNimOILExvqZfz78XKwOFwkJydCyDP/HphUBqlWj3uHNtl0jGmlR6BVSZBn0UGg4huPO2J8iq/Y3/Qd9dt4mgyGAVCGur+I1BAvMJkshC6pgkqvw/mNS0zXJqalw1lgzptPVBEkKh2eNtWBY7FTbzztXa2vpgUUnea9CwjzcgGTxUPJgTboNQqUZkWa0jTnc2onNp7e+BSfiG/Oo1VZuS7Y2/4UWuUw1mb4w8kvHU9HlOi+eRzeRiiOxyVKraBhdnxNjpXdmFPobzb5JNdMXYcLyTYLDFBMhKcuQ0NDPRZHm3uSjmTwGdegjIBSjzxClJOF8/KKRuOBA1iXFW/lMNg8AcKiE5CUmISkpGJ0KzR4cWEv+DYa777OF9MCauxVF/xdx0doDCRu2EuP4Dbmz62nGp6/CQcOHLAZ9tfvhLuzeYQ3U91wuCF4KtWjt3WnVbmnXoNiwcMvEImUPRKTUH7sDnTqIeR5jk+jGRrmbNegqGmnsKg4g30TF+HBsB6Dt2ut8kKXgeWGlm45XrbvB3eKtc+Z16AMgFIMP0Kss7ke2Jwo1B04gLL0OOt0OXwEh8cY85aE6/0ajDw+Di5nsvPZOQOgFIOPEetlHqG551RBrVOjcUmKdZo2dGWrDscBNd0mCaFHGO70SDHWfRdtd15CMfAIiyZMZVJxkzWoyfVpy+Yf43cLCFBMBMQvxp6GBqzOibfqRTpSxc0WUKqhOwiczhmwnFG6uwlSlQZarQ46nSHo9fp5A2rg9gkrZzRfQNnT3tyQVZDrdWivWGGVN1uAEsctx+2XQ9BotSZ7UNNyerUEBZ7W63czAYrFEaC09iTGFJPtO3hnMqAC0kuh0amwK2/q3ZmzBZR84DbCp6t7BgtLyxsxLJ+ct5En8wPUyLM2+Fuk+S4ARenEL2UNRlQ66NRSbMkLtqrjcR0RQBFAjWth4t8FAigmQpLysadhD0oWOy6cKOPaC1ApRQ30esutiw2I8HEHh8MBhxODJzL1ewfU4t1XoVKrobYRlENPEegtsumIJoqP+swNXU0DqmtridU9YXml1lN8olA8kKihGHqG0vwE8Lhc2iZZtZ3QzQNQsaX7oNVpcefCYcQGuBrty8HNQT0mA4qFHS2vIH/ZPu3jDfYClDhrPTQ6PZ5fO49FoZ6mvLW+UmNBAYrJQ3FjOzR050qN9r3F4FtMT47rgQCKAGpcCxP/LgBAsRCWXIA9DfVYnhHt8E/Khy8/Bo1WgepU271FhnGKb6YR1Jrjj6DXD6OQa54Kcvdfij7l/Kf47DWCCkwvQdWualTbCDu3lk3eRWjRc58oQA43Gi/kegx07TGtq7GcfXDsRq/1JomYHCi1Otw8stW0QYHJdULF2Yc2AbXr4gOoR18gyt/WehgP2z65Ca1KioJ48zSrq284no1NBpQgIAMSjQ5nd+RhunWR0Pi1kGu0OFkebQVbc5kNU3wzjaCWbjpLl70817x71ckzEPeHNO8EULHF2/Ho4X1UFltPN5vLwcDpR1IoejvhzDfn0fJ3BoOJpMJdkKrUuHpoK7YeuQ6NWobdxWmTbCiM2giFXovmreY1OOu4iAP/WO3h8IAKTSmkn3vaVroS0ZGRiIiIMIVgf89JYn/fFekdshRDSi1GnndhVUEOsrJzsL6yCpFBxp1hswRUwZYL9I6w5oMVyM5ajNLKvRiWq2nHZbkG5ewfjczMTDpcvD8ArWwAa1YW0J/jwsUGR2ncxWcvQNnVxiwOdl18Ar1OgX1bVyM7ZymaHwxgSCKxBpR3EgaUWkh77qAwfzHylqxCy70ew24/GyOo2I0n6J77veb9yMvOxuK8Quys2Q4xDUsWllSfpdffWg/uRHZWNoq27MGgVAW9bjKglu5ogVb+Egki89ZyWzZw8o/BqzE1ZIMPsW5lHrKycrB60w7kBoyvl84OUHErq+iy3z2/F4uzsrC8bBd6RhR03ixHUK4eEaa6P3lnEHrFEFYuM9R9fMT4zkHDLr7ZT/FRu0d1dPq60YcQW23yMINi2f4b0Om0uHKkEoszs5C7ZCWqt5RCYOyMuETk4MWoEkOP2+DrygPXxQeXHwxCLevDsgQvK4BzBRF4MKyhd1BWrMhHJlUfG7ZjaTp5ltCWzj6m7xweUEs376HfINHY2Djp79Z1eeBM0zt/LxXJ5GHltsPoG5bR6yRajQaSF7cRG2jc/jtLQLFcQnG26ynU1PqTVguZpBcn6upwT6KymuJL3tFCr8lo6XUZw9Zs6nrq851TGxwfUNQ0n1c8rtx7Ra+1adUq3O84g8hlJfS2b/M2cybSy/ahf0xJ21WjUuBh12XUbGmGxgag2CJP1J3qxJhCbagHtRqPrx6Dj1EvPFEQTnU8NNlXPtKPCwcq0fxcZT3FJ/DHXYkG98/uMD1vNbWumEhdW4sXA6OGNLVajPU/QX6wt9Ehzw5QTJYbGptuQamh6l4HxdgQrnxSjdMPZVYjqJT8s1Ab65pei9Praa1QdX/z7A5jmnMFFAsNLU/oRxCeXGk0jWonlpnrGYpT7Q+gUBsehdAoFeg4XEkDiu8SiI6nw1DL+1AUPl52Bjzji9ArU2Ps5XXEelhOA7OQuGQLnvYO0+Wl8i8f6cOqVF8rkE3MA/ls7jB8qLZweECxuTzweLYDl2Oe/nKoCmKywBcIIRKJ6CDgcy1GekzwqN+EAovvbAuNxeFBaIxDKODTW3AFQhGEfPMuOTaXb0pnPL3xv4Lxh0mZTPCp+wTm+yh7UfFT13LYU03T2M7X27A1Vc+GfAsN+WFx6M88y1daWdpVKASXzaK3y4tEQrBt9PSph2EFwvF6EILHtR4BsTlcK/uymAyjncwPOscV7oBWK8f6BPMOuGnLz2SCxxeY6kTA54FpWnehfjPUPWuGjhWLzZmUN0o3lnXIZk9X9+NlYNJaFAr5VnpjsrkG+7IntyG2URe8GdoXi82FUGjQuIiqD2NdMVlsQ94pjZvKzgCD1qGhPjisiZpjgmthN0rvVH1Ma+sZbEjuXfj2c3hAEZEtfJEt3Drk49AdCYbvnwGPZV6rWrjlIVoidbewNEAARXphpJc6pQZYcHJxhbNwbq8EIk5wYTlBUl+OW18EUFM6J8etNNKgSN0QDRANfAwaIIAigCIjKKIBogGiAYfUAAEUEaZDCvNj6B2SMpJRENHA9BoggCKAIoAiGiAaIBpwSA0QQBFhOqQwSc9y+p4lsQ+xz8egAQIoAigCKKIBogGiAYfUAAEUEaZDCvNj6B2SMpJRENHA9BoggCKAIoAiGiAaIBpwSA0QQH0wwmTCyc0THi6W7zibvndCem/EPkQDRAOOrAECKIcFVBjOXb2Grq4uY+jE8qjx96tNblSuftG482IQvY86EeRh64iJyfeE5Zei69pVFCwyvvXcgWwhTszDta4urM+d4tiS95hX35hsdFztQHGS8QXA7zEvjuxcSN4mtzlik7nZxOEBxeY5Iy5tMdasWYv169dj1cplCPNzt/ly0A+r8v1Rd+Qojn1yDO1dL6HXq7E1depX7vhFFEKi0EIz9gqJfu6zGq47wom6U9WZrRN1p7rW1vdpy8pw/Ng++LrPrUHYisv6OxbKTj2Cou8WxOMv4zUCys07HvuOnsD6NI9Z2d863nnmU+CFzbUHcWBrMbh2AKVvZAqOnGpCbuw882OZB6ErymoOYN+OVe/OHpbpk/8XvN0dHlA+YanYtWsnNm8sxdp1pdi5qwZ7G+pRmBJm9XZmuzR2BxV0TvEV6GYAFIPNQ3RiKlLiIsBlzc65fMiAmunI9/nqhSNORK9cg+a9qya9bXvmE3VnVy9zypt3HH2ExcPzu8G3g34zS2vos6BKs+yQV59QPBpW4mHz7gXvKOdUJ3aoB5KeQX8ODygOlw+exXEQbL4r1mzfjbpt6yHgOsobpplwcnGHp4c7uBOOEWCyWHB194C7m7PpbB3qqANnF1d4eHjA09MTHh7uEE7ojVsKdDpAUUdGeHh40vHQcbm7gT3Vm7eZhpefGq73wOKth+lD+zbmhziAA2FC6ORiKktC0RbrI98ZDDCZbIicqWvMdnMSmo8QoY6ocDf+drDjGZQjT7Ao2sI2bi6m03gp+3J4fLi6uZvSdHdzBZc9vaayyk5Ao+hHtq95NOvk6k7bPyWnFkqtFic2xpnqw9PDA4IJx1aw2Dw63fH6ElicmmxZ72yuAO7uhrJS8dD5Mzo/Ls8ZHp6e8IzKRr9cjSfNB+BHfTYGF5E5f5Zx2vyfyYSLmyGd5ZWNNKAql5vj8vR0B49OlwVn+jqPSW1PRNmALisLHIExb9HJeDqiwpP2A6Z8UflzcZp6qtpm/ojDd4D2aYcOyzzq0eEBNVmwTGSX1mD39tJJjWTyte/KqCysPNwFnVaOrSnWp4C6+WejT67F44uVxkbORdHWU+iTjEKj0dBBq1bi6a1mpIbY3uAwHaAC49IwqjDGo9NDO/oSIeLJZxcxec5Ys+sIugfHQB2iqNFqoVZrHANQLC4Wr6/Fkx4JtBqtMW+G04PNBxYyEJNWjed9EjrflO20GhVePbqOohQxPZp2C4lHv1RtsKmOOrxRZyir0c4j3dcQbGwkbJ4QBy7fwbBUaawHLdTyMVw73wDvKYDBYPugvUeO51f2Wo1Sj90eMKSp1dLOXas11Addv6pRbIgya0Lo6ouGUx0YkSmgUiqhVspwv/0MYn0FVk7IIzwNl68/gkJlrFuNFip5DwqMZ1qlLTkHFV0uLQ1y6nTbcT1Rf9sPrLCKb7q2weYJ0PJCbiyD4TRdqzJoBpBPd7y4WF3TDK1Oi8s1K8A2ntfE9YnE/QE5pH13EO0jQHzFBaiNedNThyhOyNu1w+mzztt0+Sa/vSv/9v7SWRiAYjLBZrPBZnPg6hOG7XX1KFkcNWmK5X0K1jM0B0MKLR4310FoOmiNify6S9CqZdiQEWZslDwUl+/BlrUlyMtZjKzMbKwor8OwWoe+a/ttNtzpAMV3ckV6RhayMrNAH/luC1BMLoqqL0KtUaL1aDXyFmcje3E+ak52zgtQQRlrUFtbhzoboXp7OVzn1ENmIrm4EUqdFvcuH0J+zmJkZ+diS+PZSSOo+LSdqC4vxZL8XLq8S1dvxstRFUaft8NNyAFH6ITU9Ez6t3N3eqAa68balQbbUPZJT44zHUnO4QtRu+8g1hQtQ052NrKyc7HjUAu0ej3ObVlisx6CszZApVVie46f1e9h8al0muvKj0Gl06K5voT+TKWZlZEOscgAH6qT0NDyEGq5BNUblyM+Ng75JbvQJ1Wj/+YxOJumZlk4dn8EmtEX2Li8gI5rcU4eitYUIdg4Qnf1jEQmFf+KMgwpNOi+fg651GdjiA6xPlZ9urZBjfJjFqXT9247cJaG7MHt5riyMlPhbjwQkiX0xLGbPdAqhrAizh1MFhc7Tt6HRinBhiTDhhYnP2PeVq5Fj1SFV7fOmvJF5S8u1M3KftPljfz2/uDgCLZfEIBy8gnGho1lKN+8FfUNDdiwPBNC7sQTOd9zRXLdcPpuP9QjzxAuNoyEWCJvND8ZxsjzdvgJJuePzeGAy+XSobq9F/qxR/C2MQyeDlCWItrX+cLmCEroEYSHEhVettdAZIInA/Ndg8qqaYNUJoPMRhjtfYBAb9sjQcu8jv/P4jihpVsB2fPzcDc5aAam2yTBYrNNdlt68BZ0yn4keljvqJv1GhSTCQ7HUAdcrhgPRvXou1Ztw4GyUNvWg7EXLXCZQnszrUF5Rq3BqEaLjpqV5vVTJgsras9Bp1WgaNG44/bHg1Edxh6fgyt1Iq8NTYzbj/Ee1qBcfdPwZFgFycNmpBRUQa5Wo6muABwLbdH5I2tQNnQ02Q+Y6nK6ev5If1sQgOI5uSE+IQEJiUkoWLEG9XsasHXdEoimcBTvq8Ijl+6HSqvG0dVRtDDFsaUY02hwaXuulVD5bqHYWrsPV67ewONHj+kwOKKEXvESkTaE+KaA8o6qhEynxpmVyVb5mC+g7GlfrsdSDOt0uFW32ipvtgDF4ntibWUdLrR04JHRbq8GpNCrJSjwdLW6f2ZAMeEflYY9h0/h+q37pnqQqvUYvFNrFRdVXkFgJobVWpzdkTslMGYC1KKqs9BrlThavQXLly03hfWNTdDrtNhSnGJKt6T2MjRaHUZ6nuDovjosSYkwHaluZf/3ACgq/cjCbZBT07FqLZ63HYaT8bh3q7wRQJnq08ouNto4+d02uBcEoCZWnjg6E3v27sXSuNlPY0yM42185nuF4tGQAn13zsCdw8PW07ehHutGUpB5TYgrDEbrkxFo1XK0ntqHsrIyOlx+KHlrgBIva4RGp8LBrASrBjNfQIXmbMDevXtthoaabXB3Nm9cmMnOvIRSqPQ6tG22XjOZBCimM/a2vIBOq8GdKydQvslgt0Ptz6GbB6Bc45eiX6qBaqQPR/dsN9VDt9Q2oAqqW6CVdSPGhWNlQ8vyzQSopQ3N9PQZtUakVqsnBBU2F1l2IFhIyl2Fk223MKbQQKfTo+fBFSQHWa9VvY8RFFVmt4BUvJJqoNdrcbZysdXmE5NNCKCm1IrJRgRW09poQQKK7xWE2vq9WJURNG3h3r0I2Fh14ha0ikEsSV2E+4NKvOhogMhChC6F1dDqtbhYudQq7xVNz98aoLwCNmFMp8WlTWnmNFkclH0yvzWotG1N6OvrR7+N8Orxdfh5zu5BYap+uMJcDGr1eHi41Jw3BgMFu07Tzty0SSI8CzKNDo8v1oNjMRWYXtMxNaCGHyHUx9auPDbK9rdDp5FjXbq3Vbo3Bm0Aiu+Pu8NqPDi707QxwJa2TIAq9reKc/zagHWHodXIsT4t0ubv49dN/EvtXC3csh9KnQ73T++wzoNxBPVoFtvMOTxnFKxchZRI6zJbpje+zXxjNnvqPAq8cexWH1Qjz3H6+ito5INYmWKjzEZAPbqyZ8pRp2Xa5H/bo4iP2S4LDlAsrghZyzaiob4K4R5z2EprAYm3WeHiiOUYVmnwtPUqFGoZytJDrRq668pa6PRaXKkxPLzI5LiiePthSDX6twYovrs/7g4qMfysFX6ufLDYApTUN0FF7TrTafA+t5mzOAJceC6DZvQxon2otSs2FlcchlJr2E1mAlRkNhQaHZ61HACX2kbPEiBnzS70yTQ2p/iWHr4KnVqGbSsTDc6RyUJAaLixs8DB5oOd0GkUKF9s2PDA9Qymd9dRmyQmTvHFFlRBq5VjQ5yLVV1O1JE4MhWjKh0et9ZBxDOAke/mBz+RAdjOXovwckyN/vtNiPU1x8VkchGVmAAnk0ZdEBLkaZWWi28OJBodnlOAtlzrYQXg1oAC8r47iPM0tAcWT4TQEB+r+xkMPracuElDXzX6AklB5vQty+FTsJm+pu1IuWlU5OYXBC/jJgkGg4XyQzeg0ynRsCIWIq8wegeffPA+kn0mjO4Efrj6chTyvntI9DbMIlDtNzzEejrWMn3yP4GUpQYcHlDhWSWorKykw/YdVWjY24g9tTuRFuXvmL0ynjvO3e2nG/lYdxcCnawFxxNGouuVlN4CPSoZorcR69VSPHnQbwUov9Rl6OsbwED/AEZG5YbrBw2fH1xphIBjiDe+7BT6+g3fS5UaegpsyHhd8/5io5PiIK/iFFQ6PVQyKYalKmhk/dh25PR7BxSDwUR0fjXkWj00SgUkI3JQ9qg9dICe1jIBiuGGwzd6abvKRyWQylT0es6j6y+htTHF5xaUi2fUup5Oh9GhIXo7+VjPdYQYIeCVtAoShQ46rRqSwSGodXooJc/wYlgzAVA8HLgrwfCDc+BM9XzZOFi4bqCev9Lp9dDIRzE4SE3lSrExanykz0F6yR6MqaiOgQ4jQ4MYGBiCSqODdvSBaQs8g5GKfmp7tlqBIapuB4eh1emhHu1Bbvzk0U92xUmotXpoNWoMDgxBqdLi6qGiCYASYd+Vp7T9tMphZMZOBJhRp2wxzj8aoq9TjI1gUDIGrU6CAuPuwYQ1e6DW6XD3QrXJHsE5m+nRbXfXCbhaPc/HRM6mY3RnQ6dRYWhgEAqlFtePkm3mlk6Y/G/tIy3t4fCA8olYhMWLF9MhOysbCdGh4M/wMKVlAd/H/0HZxairq0Pp0rgJTsJQEdQU5catu+hrdlVuQriPK2JS16GuqgJeRmfnFhyL2ro6+hoqLsuwrXSp6Tkc/7SSKa/bUGix5sTkIDG3BDW1dajaXoFwsQs4ESmoq61FQujsXo309mzJREjSElTX1KGmagcSQ73A8Iuky5UVZ3akLKEbijdW0rao3lmJ5HBf+AUtHNig5gAAIABJREFURU3NdoTZeDBV5BWFsq076etrd+1EfkqE6WFpCox+kanYWVVL/76ldCW8BGwsL6/GttIMU725xS6FQqfF/lLbdTnRJkyeCHnFG1BbW0uHslX5EPGtd5w6+UVg49YdhjqtrcHWsnUI8bIc0biiYPVGVFfXGK+pxZYNRRALbE1XUppiISqtELvostRiR0Upwt0nzy4IPWOwvaoGG1akWdjBhnPgeqBow1ZD2jW1WLcs3TBqY3mgbGct6mq2IZRvOQXIQt76bairq0XBIust+HTeUpeY7Lxz60ZEeJnXZCfaj3y2UR/jHaCP8K/DA4oIlgj2fWpg3cG70Aw/QJDF20zeZ35I2qQ9fEwaIID6CHslH5PA36ysLiiv2YstRRmOOZ1MtGsa6b5ZPRPoOar9CKBIIyeNnGiAaIBowCE1QABFhOmQwnTUHh3JFxltEA28Ow0QQBFAEUARDRANEA04pAYIoIgwHVKYpJf67nqpxNbE1o6qAQIoAigCKKIBogGiAYfUAAEUEaZDCtNRe3QkX2S0QTTw7jRAAEUARQBFNEA0QDTgkBoggCLCdEhhkl7qu+ulElsTWzuqBgigCKAIoBxeA1yERsdB7Db7t8Q7qsMh+SIwnIsGCKAc3jl9nIIOyCzB0NAQdhXN7WiKuYh/vteGpq5G30APNiZbvj9v5npy887F0/5BnKtMnVOnIC5vG+QqNYYeXgKHvHJpTrabbx2T+2bW87uw0YICFM81EBU7dqKqqgoZoRNe7U9A80E13EkHFs6xfpdt2YdbN5oR5GXvhsZFVdsrjD1vgyvP8oWpM6fjIS6ERK1De03mnOoqJmcHFFo9Rh43E0DNUQfvwomSNGbW/nxttHAAxeIhb9121NfXYm9jI3IjyXTHfCt9Idz3poCa+cj3+TUqYUgGJCoNTu/ImfP7+eYLKCabC08vb7i7EM0vBO2SPM6vbdmy24IBVEBcHup3VyMjOQH1DQ4IKJ4A0fEJCPVzBkfghqjYBCQmJiImIhi8CceDcPjOCA6PREJiIn1NYnwsfN2pw/rGK9YJMYmJ8HHlIigyFokJcXDjM+HkFUBfH+bvae0cmSx4+4ciIcEQX0Swn+msHnOcDLBYPARHxBjSTExEQkIcgn3mNk1lGZ99/2dCHBhuylthRT19rpL5PCgGmGwe/IPDEZ9gsC1ll0AfN5MtOHwR4ow2OHOrG6qxl1iZb7RxYiLiY8LBN9mYCZGrJ8KjYk1pxsVEwVUw9ZHuVHkLq1uhHnuBOFeuRX0Z6o3NFSBsPL6EeIT4e4JlcbigJaC4Ikoj8XTa0aF+1sdfCNzM2hjXSGIiYsPncwYaB8GRsYgJDwCbzUcopSfKFrFRcLY6u4kB6vDIgOAwxBttmJgQj0Bvy8MFhYhOSITYnYuA8Bhal+4CFoQe/nR+wwO9rcvBZMLTN9gUX2RoALgT2gJlUyaTg8CwaFM9UOmG+L7vI2DG2yL5a992Pjd7LghAcV38sa2uHqsXx8LVLxy7HRFQvhF4PqrCg9b9uHK3G0qlEkqVBhqlFGeqloBjcow8VDReg0yhhEqphFyugEajwejAc6xKGT/7KAm9Oh2aTlZiVKaEVqvFlYN70PV8GCqVBrLeOwgS8gwOksPHkm1HMTgig3REguExGRSyUVzaXwYh13wOEdclAJ+03INMqYZSoaDTVWs0uPvJ6kmO9l0LkslzRfmByxiRKqFWKqBQqOgy6/V6WAIqpeAYRmUKqFUGu6nVGkiHe1FdHEODgDpD69WQFHK5nD4EkDoUUCGX05+p7waftiPIWA8cgRMu3O+HUqkx2EOhhFatQu/DVoS72Z4+ZgpCcE+iwr1TO6xPtWUwIPSNxcWbz6BQqaGUK6BSayEfHcDxXUWmDso4oG6f2oX2hz1QKlW0RtTyERwrzzeBlhGSD4lFvimNUAcW9l7bb3Xc/ezqyQtNdwcx9PQaTpy/CblSabCvRo37zfvgwh13GCwUlp+AlMo7bV851BotpMN92Los2qiROLxUa3HpZAWGpQpotFp0HmtEx+NBWpfygQeIcDWO8tg8LC4/gP5hGWSjw5CMSqGQj6HtaCWcLKZG2UIf7G26BalCDZVJl1o8Ob/lvetydvYdtx/5+zbs5fiAYnGxeE0lqitWQ8RlwsUvzKEBpdOo0X3rPJKiAhEQHo/2pxIohp8hRjy+XsFFduE6ZMRGIcDfH76+fghPW44XUg1GHpwyNkoDoDTKMVQXJaH2xiDUKgWeXz2M3OJyqLVKVCYbDn2LzNkFqUqNziPbEejjBS8ff1TsvwyVWo4Gk2NhIGPbcWg1CuzfkAN/Pz863cDgYERPOhp85oYWU1KPlpZWtNoIzeeOwstt8mF5U4qXycKyHeeh0arQVLceAf5+8PPzR86GySOosJgSLElNQGCAwW4hcem43iuFvO8W3J25YHG48BH7wtfXF4evPody5CnS4w2fqe/E3p6mjgKbx8ea0vWICQ8y2MPPH7nrD9CnDnfUrrLpHGMLq6DRSLEu3nJUwQCT54nTt/qgkvZje3EKHV9QZCLO3uiGVj2KHZmhdHwGQOmhVqvxtPM0FoUGIDAkFm2PJdAoXiHVxzgq4wgg9jXn29c3GU+k2jcClE6nwWjvfSxNjYNfQAjqmu5Bp5ahKGX8tF8mErJKkJ8SZ7SvL0Lis3FnQAllXxdE9GnCBkBRna49a1Kxo7MXarUC3TdPIGf5eig0StRkGY6qD0nbghGlGjdP1SBYTOnSD6W7z0KpVuLI2mSTfRNK90KrVeNEZaFZl0HBiA73N10zpXZMnb6ZNUviWJg2cnhA+cUsRn19NeLEhikwRwfU8ItOhHuNO2gmSg60Q6uQIC3a0HDNDYUFkYs7vL296bC7rQd62VME0o3OAKjersMQMJkovvISOtUg8v2d4ZOQC4VGjepsZzAYTjhxbxCK/tsIdDNPObE9QnF3QI7ua4fhZGzEKxouQKuRo25tFlyE5mvN+Zm9gBdtOoZ79+/jvo1w99ol+HrYHoHYSovN9cLNQQ0kdw6AbzEdNvUaFBMCJxeT3YoO3aJtk+FhPVU56zUoNgduHp7G+IJwf1iPgRs1k50jk49jdyUYvHcaQo71ybYB8csgVetweXee1ZSeW0gSeqQaPG2pA5fBwDigem8cg1hgroPINbuh02mxo2jR5HTp+gvEg7E3A5R6rBf5sX6mUZrXklpodGrsXZIyKU2+k6vJvmV7bkOvG0IOfeS7AVD9t0/Aic3EkqYn0KklWBHiDs/oNIyp1Ni71AsMhhAHu15BKXmISO/xtsAA28UPnd1SDN49DTejLnO2fwKdVo2Dm/PhJjLOChh/s6UX8t3s2+mHYCuHBhTH2Q9ba+qxOicOTKPzcnRA3btQbdXglzW2QKcYRno01XAZYDCZ8InIQVPHTbzs6YNEIqGDXKmBXvESkXTjNACqo76UdigUoNR918Hnsq0B5RqBJyNKjPU/xr76etTvNob6g3ghkWPkSSt8jY1d5BuFzke90KhVePX8ES4e34O0qGDwJzjbdy1qru8KjOl06NpRbGU3W4ASeUfjUFM7nr18ZbLbmEwFvVqCAk/rUc1MgGKyOEhZWoauu4/R1z9oik+l1WPwTq1VXiibuMcWQq7R4OC6BJOTH7dVQt4JaPRyVAZ7WN8n9EXb8xEMP74CsQlQk3fx8ZI3Qq3X4czGAuv7TY76zQE18qwN/qb4GHDPqYJap0ajBaBcfOJx+OJVPOvuNdlDKldBr5egwAJQ1w9uBpvBoAGlHrwLZyHXGlDO/7+9625r4umi3ySV3nuRplKkSAcLgtjAAopiLxQ7Kih2REB6AClSRHqH1M0mu/k+53120zYhoPhTRN/9Y55NNpvZmXvPzJlbdicCg0tqqFcmUcPFZfVjfF1QQjXfi0hTW5x9I9AyNAu9Xof56XF8eluD7PgouEptFwFmWfNHnqA2GCTbL5jkgot4eK8KRYUFyM/PZ8vxorO4/+Ahys8eQ35+HiK8dsiqyxSD+h5BufgmY2SJALE6g+qyY4iPj2fL4+75dQTV8T2C8tmLKQUJvUaJifFxjNuVzy3PEMCZlFw8/ZB2tAQfuwaxsKKEniQge33NxnL5kQkg+Xwt+gcGMOCgfO74gCCfH7egpLFnoTXQ6L58wgZ3kQdLbJMkJIH4OLoGPSFHfeV57EtIYOVW+mKQXcVvlaBCD1+CiqSwONaLc/kZFj2MrjkiKCFO1w2BXBlGsKvZVWsdD0l5b6A3qHElfD1Btf0AQTmnXmAJqr7ksI0MrLr4/QQlkvri07gCFLGGujsXkGTC5Y2HXzYnqKVBeLhKbAnKKxIjyxo2/jpph0kGo4Ndr23I0tndBymHi9DQ3o/5ZQUoPYmBxkq4cCxqqyyscufP/fuy2NEWVMrRC7h27ZpNuXHzNptmXnn7Oq5du4zEwB2SevuDBOV1ogpMPOBVyQHLZCSUOKOibXbrBCX0R+ukAmvjrQhwsSZEfH/gCuEVGIXa9inQeiWO7N4a0OOL76OjvROdDkrbh3oEbCEGJXFOwzxpwNSHqxbLRCh1waX6XtgkSezNBaGn8eX1LWuCgkiCgsd9DgmqsmUMpPwbYoIdZeVJUf5UBkqnxvEUa/akk6snvqyuJyixdxymNHp01ZyzceGZ5RyTUg6CotFYkWPzu3d0OuviG/lwnbU4zEkSts9BCZF9tQ40TeJM9kZxl80JSuoaiLLKGtwpzYfbugd5jUkS37OgpHtOgzAY8OXeeQsuBUIpSu/0b52ghD5oGF6GclqGMPf1hG6Wm6Ojh18Y7jaMwUBrcTJ+a7h0VB9/7u+W4Y4mKEfg+ttdfJ6HbkBH0xh8fQuBAQEIDk9ATWMvGNeSvYvvuxaUQIDsGw3Q6Um0Pr2OyLBgBPj7s4kCsamHkZdkcisKxEhKy0JMVBh7T3//AASHRuOVbAaUdhFZYX8OxEzq+LP+JbYdx9L3ICAwFNdfdkNNELYEFZEBpY7CwuAHhIcEIjAkGjefNUFJUg5dfBlVzaApEq8qTiKIifMFhSLn8CH4sBalGGcefGJ/f1SSxcZbIvbnoWNomrXa7F18GcW1oHSryA91bBlKvCLQN6cEqZhB6YE4tr7gyFi86puGTr2ME4nB7KRvJqjempMI8POBl7cPIlMKMLpCYHXsI3wkG+lhc4JKq/jEZvkZKC1u59nHOn+QoEILoKAMWJTVIywwAIFBu3Crrg1qPb11ghIIsP9iPbR6El31FYjeZcRlQGAQ9iTloiDNTMQixCdnYk90OAIDA+DPYjccNS3fYNDLcThyI3nw5x3Njf/iOZ6gOC6w/6TgH7SgxM5BeCGbgE5PQ6tRgyRJrM1/RfuniZ8iKImLJypey6DQaNn4klqlgkarA6Faw6OTxuwxgcAFFW8GQen10Go0UKlUbIqzSr6EJxfyLJbLf+r/T8tRiMCEIkyvaUDpdFBrtFAsjOP41WugaW6aOWNV9YDQUdBpNWz7lcszaKofYMnD3sXnGhCP9tF5NlWakbOGILE83mpKQhHAMzwTI3MKNp1do2b0QGB6oBn98zrbGJTYC42Tasx1P4GYzWRzPDmGp+ZjdGYFTOo+Ux/ziIFyZRaVx9IgFRn/4+Wfg6+LcjAp6Cr5CuYXV9g0+JnhdqSHeFstl3Wy3Jygks6/AUnRoEg5LqfbuRkFP0ZQQpELbr4egJaRL6EBoSWhWJ5FZytjyW4Sg3Lk4hMIIHZ2x7W6NsjVHFwSOhBqOV6c32fqqxSXarrYxyy0hBGXzH01ylW8vH7c9pmqdTJxrIc/g2G+Lb9L7n8dQTEPY0ZGRsHXbWuug98lQEu9zm5IzcxGcqw5bdcIWv+oeORkZ8Db3Rork7j5IDk9C7m5uchK3w9/DxcEhSciNzvVlHXnibScXCREGlfegfGpyElPhEgkhJOnL7JzcrDLh+O6EkkQvnsfsrJz2TqzMzMRGxkCscWHL4RfSBTSM7KQk2O+Jh1RwZtNits76HxDdyM7Jxc5WZkI8XWDwCsAObm5iAxmshWNbWFcf/Ep6aY+piPMzxOePnuQk5MBPylHHqbrpe4BSEnPZK/PycpCTLi/DRl7BYQjMzuH/T0tOQ5uEhFi92cjIynCcs/Q9GKQtA63C8Is58ztsT86eTD3M+o1OzMduwI9bO4nEAjh5heE5NQMkx5ykJYUBzen77lnIzDGpJl3PXL4HJTI2R0pGdnISN7r4HcnxCZnIHN/AuchZQGkvruQk5ODKH9OconEHQkpRnkx7Q/19YBv0B7k5mbAT8gkLXggNTsHidHGB4b9YvcjJz0JErEQTu7erCyj/K04FwjFCI2OR5ZJxtlZWYiPDuO0UQjvwAikZWRacJmTlYGYMHuS3V4s2uuV//7n5P/XERQPlj8Hlv8/2YtwtWESxJwMfptYT79aLhKpM8QsIRh17Rd/HBqKRuf9c7xVwVtS310o/Wo8/sn6eILiAf9/BfitDTYXZB4uQHZitJ0l9HsXCQXn3uDT+7d4dK8a9x/WYXxBBXJtAmkhOyQhiB8z/JjZJgzwBLVNgt7axPh7J0C+LTtbvlGpZzH4bZ6NFaoUcgx1vEH23u+7GHm97my98vrZun54guIJil8N8hjgMcBjYEdigCcoHpg7Epj8anPrq01eZrzM/jUM8ATFExRPUDwGeAzwGNgQA0KhEOay3QTIE9QvAKZIJIKbmxtfeBnwGOAx8M9hYHBoAEy5cuXytveNJyieoLYddDyZ84sZHgN/DwZ4gvoFJLHdpif3flwLysnJCVKplC+8DHgM8Bj4JzBgJqjy8kvb3h/egvoF5MglKOYzl7z4z3zgmscAj4G/GQNmgiq7WLbtcxtPUDxBbTvo/ubByredJ5v/NwzwBPULSOJPgoa1oPxDUFxahoIc84swt2cg+wam4dy5YoS7Wncu/ZOy2O57ByYdxrnTx+HutP5dfL+rLa7+oTh7rgQZcUE/Se5iJOZdx+jXEVw4aH3v3+9qr6N6ncP24dy5s4gM+j3vY3Tz8kPx2VKUlhpLyZmT8PXkvKdvh415kdgdR4tLUJBqfsGyALF5p1BadOQndfxz418kCkVRaQmy9oRv630dYSRmfz5KTxeyCRIMSfEWlAPQOnn4YF9iIhLtSvyeSIhNb4l2JNztPMcSVHQippQk7Dcs/N3tSEh/AZ1uDQWBPn8c0L+7r+vql3ij+Zscc70v4C79uQlhXZ0OMGh/TVDyYWj1NN7cyPw5mUs9UNc7z24nMt1+4+fq+IF22rfb8l0oxZX6HmhXxxDr83vk5he+G31DX/F17CuWlFpQ6kUkRP4eMrT0SyBEQHQ8Ck4U4ezZszhzuggHUuMg/YH3KIYdug6SInHpYKRFH1f7lmBYGbTs5m29z++RGVO/RJqHFQON92X5lnZsx33t7yEU+qFznsRU0x2eoOyFw/3uvSse9x88wJ2bN3GTU8rPFsJJ/PuAwm3D9z7zBPVn9BCWVASNTou7R7Z3tfmfCUogQEhSHmqe1iA75metsJ+Xuav3XnxdI9HzwHYX4+/hfKu/M+OCKZVNw9tDUH57MSknQJEk5GtyaLR60DSF0dYaeDnYCdncH6HYGfdbpqCZbUegZQcAAf6fCSo8/zoogx4XskN4gjIDxdHRSFC3EekkZcFuBr2I87ZnR//bznM8Qf38ZPnzepKgvHkC6tle+LhJt3W1+SsI6uf7/V9lLUTqtVfQESvI3rs921pUbBdBufogNysRLk5SSCQSSN18cPP9MGiKQEXGxq5U1/DDWNbqUV+Wa4Oj/1eCEorEeNS9AM3UR7gLBTxBbTZYzQQVIdlh+z9xXCw2BNV8H9knr2B8dhVarRYL33pxdD93jygxkg9fRt/oJNQagr1Go1hGY81VBHvaZwCKEJtdhLahKagJLbRaAstTQziRHGgZSOtcfCInHDpfC4VGg89v7sCb2WvI0x/NE6uY6a2z/I+R+b6zd8FsFFdiiYOkYkarxbtrJThWVo25VWZjQy3mRjqRuTt4W9/ovRkmmN9cw5KxROjQVJ3H2YIiBG3jy/hwNw11HWMgNCq8vlqA3JKHWFMRmB9pQ5SvK1w9EzG2osHSyHt4cvTI1Jt99jEr5+tHrbGIgJhUvGwdYjdTZOShVCrZzRS5Lr6Ua81QLQ4jenci7r3qgEJNsBtSyt7dR5C7OT7oiZrmCVamTD1M6XlUYKMTgSAYsnk11PM98LVrW9KRW9BoCTw8a41zeocnovZjH1QaLavLycE2HE6J4MjEltDEbr5oHZdjpvsenM3WgkiKq68HoSWUOJVq64YT+aVhTq3F+McKy3b23sGxuPtOBqXK2Ie1+XHcKT4AF4k9fo333oygmMlwf14ZPk8sgmAwrtFgtPs9MmNDLHK5UD8CrVaO07G2Oxq7hKdiQanByMcqOG3g7o+IqwRB6/HyTIylPhtsCSUoedwKnXIayYHMnldWeZkJKiT+IFoHplh9qdbmcKc4wyIL5vrAiENo6h2GQqlmryFUcvQ2PsG+MDeb+pj9wIL3pOPpx17IVcaxr1qZRc2FbMt1jlx8QbHHMKPQYmm8A/F+xsXY8Y/j0C4Nw5kTe/WPzcCqikBDxQFTfcFo/bqMsZanyD18FoOTSyC0WsjnJ3AhPwUSTl+5/XaNKIRcT+NFibFdfJLEBoJihPa3EZRWvgK1RoGWt8/x4PELzMkJaJZGsTfQPLicceluM1o/vEPNwweoqryL+iYZSNqAsXfXLUBl+p5eep/deXdtdgR1jx+g+u4DvH7fgqqSFMt1NgTFkNOFOmh0OvS/uwNfF9OE4emPtlkVlgZeWv7H1J9U+gAGWo/zh81+9zQsGgxQyOXQE2tofP4ED2rqsayhoJ6VIWhLiwQxomKTkZmZ6bCkp8TDaRO9cweMo88HypuhU88i1Zu7BUUIuqaVkC/NY3akHS0j8yA0i5AvL+PD2wZWLs8LkyEQOePW20FQOiWOJ3O3SJeidkQOvXwYEaYJz2/3USwSesjnRlFr0sHHjn52i3UuQe2/2QY9oWYnzPmvfai5fw8vGb1SFNofmQPtzjh0shxVlVV48LAFhIHGwJNCG50wfS283QSDQY8recYNK439l+Bh/woo1QTinI0JIe7ByRhfJaCcH0PV1Qs4f7kCnyeWQSrncTjOlmjMMgxNvwE1qcGVzN029/VNvQAtbcDQ0/M25zPPPQJt0OP20Wj2vEdQIsZXSRDyObx+VoPqew/ROTQNitbj473jnM0IrRP9hgQlkuDwrVfQURQmP7fh4d27ePzsJeYVJCjNAg5GGPsQnHqKHR+9z8psiDez5B0omkTFISuZmfvJHIUSF5yp64FONYcD4Y6tRSf3CAwua/Hleem6BRhLUBolVrQ6jHR/wN3qB/g8vgxar8aFNOsiMTHrMbpbm1D39DGqKqvx9FUj5Fo9lkeb4MdxLYakHMW8koRWuYCGl09RXVWNuhdv0VxXbpG5PUEFxh7DrIrC2mQ3EgOsiUAnP03DoBi3Jai4LKhIGk3Vh0z1haBzSgFSLQdBEOhpeov79x+zO0nr1Ys4sifAcl+L3IRilNbIQGkmEethJGyeoDaZqIwE9RB3q6tRXV2NOzeuoyA7Bb7u2+vWsSjQQVu5FpROs4iy3EjTCkuIqGMP2R1Za48mWcAgFktg46IUiXGvdxn02hfTjroCiDwTMKOhoBhvQ6gLJ/tJKIRYbF2pWggqKAiHLzyHhtSh981N+LhwVoNbJCi9ZhHHU3eZBqwQWadrQdEUKgq5k7l1AnIsGw/UdU2zW6pTFLXuqJ7vRagDWTquy+5eLmHoXyQwum7lbCQovWoWOWE+2F3FTPQU2qtPwN0vBGOrOrTdNiY2eCWXQKWnMfT8rEUv0ogjUNIG9NWWms6JUCVbhF4+igQPqw6CkvPWJUkwBEXTevS8uAZvV+NEIvTZhYFFNRYG3sLLrq8e3meg2ICgpFGHoKQMmGi8ZZk0nSOzodDT6H951bJT8ulXI6C1K8iPse6K6xmRhFmVDsMNd9YvAMTueNT6DfLpToRw8SEQQCRxxvtRBWj1JPa6muUtQd2wHLqVQYSIjXgqqR8FTcpRGO9taZvIKRCvR1agV04h2tveahBgI4Jy9Y7HpFKPOdkzeFswLYR/YhE0FLNgu2LUg9AXrbMEdCtDCDBfJ/RC86QK6plueDpzvSt+qKh7i6amVoxNLUKrWsatY8kbJDoIEV/6BDpSgYJEK+GYMcgSlEGPj9XHIDX132lXNtZ0NMbe3obEZIGKRBKIuYkYQiHynvaBJpaQEGxMXhI6+eL94CJIxQwOxwTZtEcstrafS1CBewoxq9JjdaITCRxyYtq3FYKidWrcP58DiamNgTEnsKqj0fvMvHAy61sAiXskxuR6DNRaxwVPUHaD1wwQ5ujs6Y+MDOMqPDvnAE4Wn0PVvQeouFoCHxtgWoXM/f92fOYS1HBTpQ34fIL2Y4kw4PMLqxkvcvJGanYebj14hsYPjWwZm1XCQExjj0kWsXkXWDfS47JEywTqqC9GglLgRXUjNCSJzprL8JRyyImpb4sENfyw3DL5MPf0TD4CHUXjVcX61b6jNhnPCeHs4gp3d3eHxc3NxeYeG9ezXq97D5aD1Klxcb91Yjb+30hQs9118BAKEFPVBEqzhKQoX7j6BhsJ6o6RoMTOHvgwugqd4hvi3Zl7CHGMsVxoLYoSTC45SQJmSRoTH27buHQcxaBYgtLLURjMWakLhXBxdYObi/O6vm5GUAKBCA+7lkATs0h0N+ryUHkTG0s5n+JhwkMwepe0UE53Iil+N3bHmMruDMgYK3KyHQFutrLzDk/HgprEu/J0B5gSIqvsOQwGGveK97O/u0QfZgm760GJqf3ekC3qsDb6Bk4S27r3n3gLvYHAjVhO/01Y3oigvAsrQdE6VBQY72fFgAhNU1roZjsscsspqTdZcqFs2/xPr1zVAAAOnklEQVQTC0DoabTePwmxzfzhh4ra12hs/IiuviEoNCRWp7/gYOL6ZBSRsyfefVnG0mAt3MzuTk5dLEGtfrGQk7F9XpAt6iH/Wg+pWQYiZ8SmZOHizUo0NBjHs2x4AbRegRNhRivFJywOC2oawx8uWfpk7a9VlmaC6nr+FjNKxgprxW5Pq+Vk/s9WCGrlSyP8OTF7qW8wBpcIzPXV2uFAiPQLz0DpVSiMNeOMj0HZCcmqLLMybI5CIcITDrOZfYdi7Seo7/yXAz6bOv/jeS5B2aeZewWEYk5tQH+9kaDETn542j4BvV6HyeE+NDc3s2V8SWNDUDlFz0EbDLhRsB6c3LYbCUqO9+8+Q0fp8fHOETiZVnuW67ZIUEP3ymwHUfxBkBSN15XHt6ArCXYnpiE3N9dhyU5PgstPyd0FNZ+XsTraCA8mvmZTh5GgpjtrWUuUJSj1AuIjvNcRFENIGRefsa6pypMpEAo90DJNQPX1ndU3v+sANLQBnx/YupY2JCidHEd/MN1/c4ISIK7wNmgDjafnMyEQeqN9Tgv56Ac4W3S7G2MqHZulRpIkuIWiaSinuxHEEq95TEhQ9LgDWvkkEkPM7mbzb8aj2C0BE2oKK4NPIRUIcORqAwyUGidjzN6K3fhGUFjsfQapXQZtfHo16ym4d2S9lb0RQcWWP4OB0uLEgTg7PQpQNbhiTPE26VcUkoZlksZU6z3Wgjz1dBAUsYAsX8d9YXAhlkgRHHUQU3ISS8ON8Ld7FCEg4QKUOi2q8qwxPS6ezDEooR15fZrRQT7+0kRQUpy62wqtTo+lqRG0tBjHc++3ZRg4BBUcWQSF3oCOR5svOM0E1dPSCjlJY7G/Hv5u9jjfmgW1PNgAP+448Q5E17wa859tY9IiJ0+8G1vDct9TG9LnLSiu8H7gs3doHO7ef4iCJP91wOYCbLs+b0ZQ/jFnoNBT+FiexrbVM/cadDQN2cOzcOEEOMs/TNoQVNyRUtaCenE5y5Ys7ORjdvEVhkbj3vsh6HRqPDufCSk3aOzpj9YZFZaHXnOAJ0T25ecOY1D2BBWVfQ56msbj8+snko1l7I7HLaNQKVUOy/J4O4Lt+rJxXdaJ1HPvQSh1etSVpTqQy1YISgAnjz0YXdNj6fNjBKSdY+McdQwhmNslTcaCnsa317dsYh9xR8uhoww2z0GxFtQvJCiBZBe+yCmsfHmBkLQiFjMvr3Cx4I+ueQLy8WaEBHjD29u2eHm621h9Tj670L+gxpc35TZ9sfSV6bNQiLLnAzDQCuTt8kPrjBarQ68gtUzQvpAt6aCa/AgXia2VnnurAxSlQJGDB383Iijvwip2gVBbnGGVOdMOkQd6l/VQjr3mnBfhyodJ0MQ89gftxZhch9nuJz/wqIk33vQvgFgZRpS/FUcCkQvuvB+GerEfke7rCYCRi0OCcorGVyWF2Y6HxnhbSBKWCD3mP7+Bn7vVDZx4tdnOgtqDRQ2N8ZbbLPnbyN2MN5vnoI4i89QjaPQ0Rj9Ww8eZ03aBACeap2BQfIMnZw4JTS6ERrc+BmVPUB4BezCl0GPsw0WOfAUIzLwEQk/iRsFem/M8QXEUtJHizOclzh44dPoa7lddRzgHEObf/8RxI4ISS91xp2EQOvUiMmOMK0uvk1XsqvfdRdODeCJnJBwswZxab0NQooAkzBMUNPODiA+zuk1EUhf4cBIDzATFPKgrdgtGXc80KFKByoL9Fh+5wNkH7waXoFn6glgvJwiEIkQkFmNKrv0uQYlcvFDVPg29egZp3ptbc7ayF8LFzQNeXl4Oi6eH28YT5SZ4KHrSD3J1BLscxiC3RlACoRSXaz+D0q2hu2UQtHYOSd7cidcJ7yc0IFeGEeHDrNSFCM84hVmFln3I1j5Jgv6VBCUQoOhRDwz6FTS97AelmkICJ+DOyPp03RAochVlGXsh4ixIpK5eCPA1Wz3GiS2u+Am0xBqOJnATL2wnPaZO18RiNlniU3snSJqx4FJtJquiugHW1XjvVLyFAD0jMjCyQmBtvBU+dm1k6tyIoFy99+GbQg/lZCdifc2xKzEOXKwBZaDxrtwc7De2MzKrxLi4a38BHaVDRV6YTdts8ccQrhiRqUcwLScx2VEDTwvRCuAeuI99sP5The09uHWsJygRckruQk/r8aDYZAlFp0NJUhhvfgRnJsYjlCAi8QB6ZxQ2FpTQ1R8fR5agV6/gdG6cdWwKRfD1sya0mC0o9kFdoRh5N99DT1PoqbsGD46O86v7QFMKnDHPKyEp6Py2yuLSPkmCS1BCsRQHKxuh16lxM8ea2SgUOaOi4SuIhV6Em12XpnHIE9QmE1LIniycLj7NlnOlZbhdUYm7lTeRERvkYAW9fsBxAfe7PlsISkFCRygw0NOB16/eYujbAkhChZd3jloC2y4+6Rhf00JHKDEy1I+J6QWQJIGVRZUNQTGTYXbZc6hJCkza6vjwAPr7v2Bufhl1V6wxBC5BMf1zC4pBx/gydOplXMxJMJGAEIcuP2fjSKvzExj68pVNSx758hWkgyw+nUqOgc5PqH/dgPHpRei0StScy/3j8hZ7xuKbUofe2ovWAW6DnS0SlEAAj8QzUFEG0DSN8fdX1vUxseAetBQN+cIMBoYYuWnQ2t4EUk9t2YJi3opS39yNvt4+DAxMQGcwQLkwwX7vlbUiJdgWvy6786CiaFAUjdGGmxZCMOPYOSQB/TNr0JMazE6O43NvH4ZHJ7G0vIaXV62TNxOgfzewiMXBN/C1c82Z67IchVK8HWXS6GnQmknEOXEJWwCX4CT0zylAkRpMfx1B/8AXrCg0INamUbw/wCK/iPzb6OntY/s2u6oBrScxOjTAfn9pdhULJcgrewa1joJqbQnDA/0YHZ8GoaPwrbsefvYuXHEA6+qkKQraxT54OlmTC5j2B0YnoLPbeM++vn5MTs1CRZBYHJMhIYz7phURjlQ0glTNIyPCfUOSu9q7BAOlw8TYAN6+qEf753EQpA7Dnx7BzRznFQeicWwFlJ7E5NgQRr9Os4+ELM+s2VhQzHgOSy/FzBoBvVaN2YlRfGbbOI+vnyosbbAhKDYT0RnX3/azCThN1WfhbMJ7SMIRKEgaGvkihga+YFWhwdzkOOtdsCcoSkdgfKAXb169wecvEyBILXpe3IKHxV0sgGtQFuY0ejRcW584wROUzSRjO0jDEw5Z3+d19jQOpCXC6z8E2C0DcZN7bvUalqA8vZCUcxK1rxvQLZOhRyZDy7vnyE6IgIQDBMaNEhSfjVcf29HT04O2prfI378Xeadq0NPxFmHcdokkCI3NxIt3TZDJetDT3Y2GFw+REGxNrY6MvYyurmak+ViDmr679qGxrRsdTa8Q6W8cgCKJO46W3Udndw9kna24WpwFz7h8dMq6kZdiDiAb08yVs9Ns25j2Nb15ivToIGtchtu+bf6ccqoGet0ajm44qfjhwdtPePvgEhvfCj1dge62D4gMcoezpx9eNHXibpGtm1IkdUPjhAoGikBpuoN0ZZEUqYVX0dElQ3dnGy4eS4NzZDzaurpx/US8ZWLZc/IuZHZ6sMeRk4cvnjd1WWTLyNdcZN2t2G9HUAKBFJVvO9DT040TqY7jra7eQSi9+QQdnTK2ru7WNty/WoxAL6u1GxhfDLmWwL2j1vbat437/WDZC3YlPvj6sqV/3N9dvENwsbIOnd0yFpOva+4gOtDHJjkoouA2ujn9M/eTOb4yExQzAQsl2JV8EC8aWtj2d3V8ws2ig3B3sbUAzfdPP/0Ysp4e1JQXrrPAA6MZvZhkKpOhreUDLp08AB8383NoxrlF4hGEzmkFvjXf2RTXXmFxuPnwOTo7u41ta23C+fx0uNklZ7kFReNefSM7RrvamlFWmIn4hHJ0drUgy99qHTGeC5/gGNx6/BLdjOyYNja+wfFU82MeTNwsBU09MtzKt1quYicPVL9pg6y7AyfSTM9UCsWIyzqLTx2MDrrw5PZZ+IbvxfvWTlScSTbpzZRmrlrFZ2b+6OlBe9M7FGfFw4X7yIhQjBPVjdCp55ERtl7uPEFtMtExWw2bwblTjyxBmXYSZT7v1HZ+v11GgrKPQX3/f7aLit9yvdgDH74pMd9by0kU+K/3FcI/9iSWSQpLvbVw4riAfksfNsH5b7uf0Ak33g9BNT+AKB9bi8PhPaUeqO1bAE2u4XCM7cTu8Po/0af/eM+o/CoQpBJn0jd+u8S/0VcjQXFdfI76JXULQc+cBl/fX+HEqK1jiyeo/wg4R0LfznM8QVnB/Lvk7hm1H7LPAyjP576V4+fuK3L1RmRUNOJTCjE0q2BdPXl7Pf/ihcXGcnDyDsKbtl7U3chdZ3FYdMVY9eGRiN69Fzdf9bIxlo+3jlvcdZbr/vJxyvZD6IIL996h6+MzBNklevxT/WR19WME5b2/CL19PchLcvxOS56g/nLg8wS18QS5Ewe9d/Z1qLRa6HQklia/4FRG9L85Gf/guBI7OaPlmxIkqQOhXMW7u6Vwt4s97UQ98m363rj7MYL6nhx5gvrBgfQ9Qf6p37kE5eLigr+3+CI+MRF7woP/4j58X/7u/mHs9i37EuIRFuDzT/f1R7Do6uqGmDjjljZ7o3fB7a/G8Pf1/yMy+Teu8URMXALi90TB/T/o1ExQly+Xb/tY4XfU/QXkyCUoN1Msij+6gZcBLwMeA38/BswEdeXK5W0f0zxB/SKC+jdWXPzqk9cjjwEeA7YYaPjwHkw5fbqYt6D+lJuOv+/3/Nn87zxGeAzwGNheDPAW1C+woHjQbi9oeXnz8uYx8P+BAZ6geIL6J9Or+Qns/2MC4/X8b+uZJyieoHiC4jHAY4DHwI7EAE9QPDB3JDD5lfG/vTLm9cvr90cwwBMUT1A8QfEY4DHAY2BHYoAnKB6YOxKYP7K64q/hV+E8Bv5tDPAExRMUT1A8BngM8BjYkRjgCYoH5o4EJr8y/rdXxrx+ef3+CAZ4guIJiicoHgM8BngM7EgM/A9WuOWCDIxhMQAAAABJRU5ErkJggg==)\n",
        "\n"
      ]
    },
    {
      "cell_type": "code",
      "metadata": {
        "id": "MXzjVvfuND7U"
      },
      "source": [
        "# should be in darknet\n",
        "!pwd"
      ],
      "execution_count": null,
      "outputs": []
    },
    {
      "cell_type": "code",
      "metadata": {
        "id": "la3qF16SNx7I"
      },
      "source": [
        "cd darknet/"
      ],
      "execution_count": null,
      "outputs": []
    },
    {
      "cell_type": "code",
      "metadata": {
        "id": "qBmbHd7M16lK"
      },
      "source": [
        "# upload the obj.names and obj.data files to cloud VM from Google Drive\n",
        "!cp /mydrive/yolov3/obj.names ./data\n",
        "!cp /mydrive/yolov3/obj.data  ./data\n",
        "\n",
        "# upload the obj.names and obj.data files to cloud VM from local machine (uncomment to use)\n",
        "#%cd data\n",
        "#upload()\n",
        "#%cd .. "
      ],
      "execution_count": null,
      "outputs": []
    },
    {
      "cell_type": "markdown",
      "metadata": {
        "id": "AynO1huO4Kzd"
      },
      "source": [
        "## iii) Generating train.txt\n",
        "The last configuration file needed before we can begin to train our custom detector is the train.txt file which hold the relative paths to all our training images.\n",
        "\n",
        "Luckily I have created a script that I showed in a past video that generates train.txt for us.\n",
        "\n",
        "The script can be accessed from this [Github Repo](https://github.com/theAIGuysCode/YoloGenerateTrainingFile/blob/master/generate_train.py/)\n",
        "\n",
        "Just download the file to your local machine or Google drive so we can upload it to your cloud VM."
      ]
    },
    {
      "cell_type": "markdown",
      "metadata": {
        "id": "AwPb7CThO6pQ"
      },
      "source": [
        "Should be in /content"
      ]
    },
    {
      "cell_type": "code",
      "metadata": {
        "id": "flATtDXlOuwI"
      },
      "source": [
        "cd .."
      ],
      "execution_count": null,
      "outputs": []
    },
    {
      "cell_type": "code",
      "metadata": {
        "id": "cKBeIp7V44nu"
      },
      "source": [
        "# upload the generate_train.py script to cloud VM from Google Drive\n",
        "!cp /mydrive/yolov3/generate_train.py ./\n",
        "\n",
        "# upload the generate_train.py script to cloud VM from local machine (uncomment to use)\n",
        "#upload()\n"
      ],
      "execution_count": null,
      "outputs": []
    },
    {
      "cell_type": "markdown",
      "metadata": {
        "id": "k9Ikig-H5wpw"
      },
      "source": [
        "Now we simply run the python script to do all the work for us."
      ]
    },
    {
      "cell_type": "markdown",
      "metadata": {
        "id": "ZR4nb50BMc1Z"
      },
      "source": [
        "Run this cell in /content"
      ]
    },
    {
      "cell_type": "code",
      "metadata": {
        "id": "xZtksBnD-_Mm"
      },
      "source": [
        "pwd"
      ],
      "execution_count": null,
      "outputs": []
    },
    {
      "cell_type": "code",
      "metadata": {
        "id": "o4HBBgk3503F"
      },
      "source": [
        "!python generate_train.py"
      ],
      "execution_count": null,
      "outputs": []
    },
    {
      "cell_type": "code",
      "metadata": {
        "colab": {
          "base_uri": "https://localhost:8080/"
        },
        "id": "kl8ATetBOQPK",
        "outputId": "1c202315-4247-411e-e3bb-84d545a501e3"
      },
      "source": [
        "!cp /content/data/train.txt ./data/"
      ],
      "execution_count": null,
      "outputs": [
        {
          "output_type": "stream",
          "text": [
            "cp: cannot stat '/content/data/train.txt': No such file or directory\n"
          ],
          "name": "stdout"
        }
      ]
    },
    {
      "cell_type": "markdown",
      "metadata": {
        "id": "kVa-T-YOOv_t"
      },
      "source": [
        "Transfer into Darknet"
      ]
    },
    {
      "cell_type": "code",
      "metadata": {
        "id": "reQfyTGWO-7H"
      },
      "source": [
        "# cd /darknet"
      ],
      "execution_count": null,
      "outputs": []
    },
    {
      "cell_type": "code",
      "metadata": {
        "id": "CIFjMSlX6DfP"
      },
      "source": [
        "# verify train.txt can be seen in our darknet/data folder\n",
        "!ls data/"
      ],
      "execution_count": null,
      "outputs": []
    },
    {
      "cell_type": "markdown",
      "metadata": {
        "id": "5mFOT8pC6Qbg"
      },
      "source": [
        "If everything went as planned double click on **train.txt** on the left side File Explorer and it should look like this.\n",
        "![image.png](data:image/png;base64,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)\n",
        "\n",
        "It will contain one line for each training image path."
      ]
    },
    {
      "cell_type": "markdown",
      "metadata": {
        "id": "DKDmFrUH7JHy"
      },
      "source": [
        "# Step 4: Download pre-trained weights for the convolutional layers.\n",
        "This step downloads the weights for the convolutional layers of the YOLOv3 network. By using these weights it helps your custom object detector to be way more accurate and not have to train as long. You don't have to use these weights but trust me it will help your modle converge and be accurate way faster. USE IT!"
      ]
    },
    {
      "cell_type": "code",
      "metadata": {
        "id": "k5SYWDPv7qG-",
        "colab": {
          "base_uri": "https://localhost:8080/"
        },
        "outputId": "45a3af06-1f8c-4e3e-b0b7-dcccebd67635"
      },
      "source": [
        "# upload pretrained convolutional layer weights\n",
        "!wget http://pjreddie.com/media/files/darknet53.conv.74"
      ],
      "execution_count": null,
      "outputs": [
        {
          "output_type": "stream",
          "text": [
            "URL transformed to HTTPS due to an HSTS policy\n",
            "--2020-12-02 16:06:57--  https://pjreddie.com/media/files/darknet53.conv.74\n",
            "Resolving pjreddie.com (pjreddie.com)... 128.208.4.108\n",
            "Connecting to pjreddie.com (pjreddie.com)|128.208.4.108|:443... connected.\n",
            "HTTP request sent, awaiting response... 200 OK\n",
            "Length: 162482580 (155M) [application/octet-stream]\n",
            "Saving to: ‘darknet53.conv.74.1’\n",
            "\n",
            "darknet53.conv.74.1 100%[===================>] 154.96M   468KB/s    in 5m 47s  \n",
            "\n",
            "2020-12-02 16:12:45 (457 KB/s) - ‘darknet53.conv.74.1’ saved [162482580/162482580]\n",
            "\n"
          ],
          "name": "stdout"
        }
      ]
    },
    {
      "cell_type": "markdown",
      "metadata": {
        "id": "VHw00Cro8ONr"
      },
      "source": [
        "# Step 5: Train Your Custom Object Detector!\n",
        "The time has finally come! You have made it to the moment of truth! You are now ready to train your custom YOLOv3 object detector on whatever crazy classes you have decided on. So run the following command. (dont_show flag stops a chart from popping up since cloud can't open images on the spot)\n",
        "```\n",
        "!./darknet detector train <path to obj.data> <path to custom config> darknet53.conv.74 -dont_show\n",
        "```\n"
      ]
    },
    {
      "cell_type": "code",
      "metadata": {
        "id": "yxLpZ71c_loh"
      },
      "source": [
        "# !cp mydrive/yolov3/yolov3_CUSTOM.cfg darknet/cfg/yolov3_CUSTOM.cfg\n",
        "\n",
        "\n",
        "# !cp darknet/cfg/yolov3.cfg drive/MyDrive/yolov3/yolov3_CUSTOM.cfg"
      ],
      "execution_count": null,
      "outputs": []
    },
    {
      "cell_type": "code",
      "metadata": {
        "id": "FbIIvoosApIu"
      },
      "source": [
        "pwd"
      ],
      "execution_count": null,
      "outputs": []
    },
    {
      "cell_type": "code",
      "metadata": {
        "id": "IrT9LSjc8LMt"
      },
      "source": [
        "# train your custom detector\n",
        "# !./darknet detector train data/obj.data cfg/yolov3_CUSTOM.cfg darknet53.conv.74 -dont_show"
      ],
      "execution_count": null,
      "outputs": []
    },
    {
      "cell_type": "markdown",
      "metadata": {
        "id": "WmevLHkCPAjL"
      },
      "source": [
        "You can observe a chart of how your model did throughout the training process by running the below command. It shows a chart of your average loss vs. iterations. For your model to be 'accurate' you would aim for a loss under 2."
      ]
    },
    {
      "cell_type": "code",
      "metadata": {
        "id": "8X8Hu3RLQB-2"
      },
      "source": [
        "imShow('chart.png')"
      ],
      "execution_count": null,
      "outputs": []
    },
    {
      "cell_type": "markdown",
      "metadata": {
        "id": "xCYF19wDArJz"
      },
      "source": [
        "**TRICK**: If for some reason you get an error or your Colab goes idle during training, you have not lost your weights! Every 100 iterations a weights file called **yolov3_custom_last.weights** is saved to **mydrive/yolov3/backup/** folder (wherever your backup folder is). This is why we created this folder in our Google drive and not on the cloud VM. If your runtime crashes and your backup folder was in your cloud VM you would lose your weights and your training progress.\n",
        "\n",
        "We can kick off training from our last saved weights file so that we don't have to restart! WOOHOO! Just run the following command but with your backup location.\n",
        "```\n",
        "!./darknet detector train data/obj.data cfg/yolov3_custom.cfg /mydrive/yolov3/backup/yolov3_custom_last.weights -dont_show\n",
        "```"
      ]
    },
    {
      "cell_type": "code",
      "metadata": {
        "id": "hMIW09wSR_65"
      },
      "source": [
        "cd darknet"
      ],
      "execution_count": null,
      "outputs": []
    },
    {
      "cell_type": "code",
      "metadata": {
        "id": "yE_Q7BXxXxMl"
      },
      "source": [
        "# !./darknet detector train data/obj.data cfg/yolov3_CUSTOM.cfg /mydrive/yolov3/backup/yolov3_CUSTOM_last.weights -dont_show"
      ],
      "execution_count": null,
      "outputs": []
    },
    {
      "cell_type": "code",
      "metadata": {
        "id": "M2UoMf94G4Mn"
      },
      "source": [
        "# !./darknet detector train data/obj.data cfg/yolov3_CUSTOM.cfg /mydrive/yolov3/backup/yolov3_CUSTOM_last.weights -dont_show"
      ],
      "execution_count": null,
      "outputs": []
    },
    {
      "cell_type": "code",
      "metadata": {
        "id": "l60OiWWXj19U"
      },
      "source": [
        "!./darknet detector train data/obj.data cfg/yolov3_CUSTOM.cfg /mydrive/yolov3/backup/yolov3_CUSTOM_last.weights -dont_show"
      ],
      "execution_count": null,
      "outputs": []
    },
    {
      "cell_type": "markdown",
      "metadata": {
        "id": "N29uHgipYsY2"
      },
      "source": [
        "# Test Your Custom Object Detector\n",
        "You have done it! You now have a custom object detector to make your very own detections. Time to test it out and have some fun!"
      ]
    },
    {
      "cell_type": "code",
      "metadata": {
        "id": "CzWTss9BZaDx"
      },
      "source": [
        "# need to set our custom cfg to test mode \n",
        "%cd cfg\n",
        "!sed -i 's/batch=64/batch=1/' yolov3_CUSTOM.cfg\n",
        "!sed -i 's/subdivisions=16/subdivisions=1/' yolov3_CUSTOM.cfg\n",
        "%cd ..\n"
      ],
      "execution_count": null,
      "outputs": []
    },
    {
      "cell_type": "code",
      "metadata": {
        "id": "rBPEqumuZ0aG"
      },
      "source": [
        "# run your custom detector with this command (upload an image to your google drive to test, thresh flag sets accuracy that detection must be in order to show it)\n",
        "!./darknet detector test data/obj.data cfg/yolov3_CUSTOM.cfg /mydrive/yolov3/backup/yolov3_CUSTOM_last.weights /mydrive/Images/anemone_test.jpeg -thresh 0.3\n",
        "imShow('predictions.jpg')"
      ],
      "execution_count": null,
      "outputs": []
    },
    {
      "cell_type": "code",
      "metadata": {
        "id": "EAGmQ1ox1c-J"
      },
      "source": [
        "!./darknet detector test data/obj.data cfg/yolov3_CUSTOM.cfg /mydrive/yolov3/backup/yolov3_CUSTOM_last.weights /mydrive/Images/PPS17.jpg -thresh 0.3\n",
        "imShow('predictions.jpg')"
      ],
      "execution_count": null,
      "outputs": []
    },
    {
      "cell_type": "code",
      "metadata": {
        "id": "xXasDeEo9r75"
      },
      "source": [
        "!./darknet detector test data/obj.data cfg/yolov3_CUSTOM.cfg /mydrive/yolov3/backup/yolov3_CUSTOM_last.weights /mydrive/Images/barnacle_test_2.jpeg -thresh 0.1\n",
        "imShow('predictions.jpg')\n"
      ],
      "execution_count": null,
      "outputs": []
    },
    {
      "cell_type": "code",
      "metadata": {
        "id": "cp8bbU0F9dOm"
      },
      "source": [
        ""
      ],
      "execution_count": null,
      "outputs": []
    }
  ]
}